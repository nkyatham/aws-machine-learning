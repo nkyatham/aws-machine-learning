{
 "cells": [
  {
   "cell_type": "code",
   "execution_count": 255,
   "id": "7b53910a",
   "metadata": {},
   "outputs": [
    {
     "name": "stdout",
     "output_type": "stream",
     "text": [
      "Collecting numpy==1.23\n",
      "  Downloading numpy-1.23.0-cp310-cp310-manylinux_2_17_x86_64.manylinux2014_x86_64.whl (17.0 MB)\n",
      "\u001b[2K     \u001b[90m━━━━━━━━━━━━━━━━━━━━━━━━━━━━━━━━━━━━━━━━\u001b[0m \u001b[32m17.0/17.0 MB\u001b[0m \u001b[31m20.6 MB/s\u001b[0m eta \u001b[36m0:00:00\u001b[0m00:01\u001b[0m00:01\u001b[0m\n",
      "\u001b[?25hInstalling collected packages: numpy\n",
      "  Attempting uninstall: numpy\n",
      "    Found existing installation: numpy 1.24.4\n",
      "    Uninstalling numpy-1.24.4:\n",
      "      Successfully uninstalled numpy-1.24.4\n",
      "Successfully installed numpy-1.23.0\n",
      "Note: you may need to restart the kernel to use updated packages.\n"
     ]
    }
   ],
   "source": [
    "%pip install numpy==1.23"
   ]
  },
  {
   "cell_type": "code",
   "execution_count": 1,
   "id": "1f6797ba",
   "metadata": {},
   "outputs": [
    {
     "name": "stdout",
     "output_type": "stream",
     "text": [
      "sagemaker.config INFO - Not applying SDK defaults from location: /etc/xdg/sagemaker/config.yaml\n",
      "sagemaker.config INFO - Not applying SDK defaults from location: /home/ec2-user/.config/sagemaker/config.yaml\n"
     ]
    }
   ],
   "source": [
    "import boto3\n",
    "import sagemaker\n",
    "import pandas as pd\n",
    "import joblib"
   ]
  },
  {
   "cell_type": "code",
   "execution_count": 2,
   "id": "f88cb2bf",
   "metadata": {},
   "outputs": [
    {
     "name": "stdout",
     "output_type": "stream",
     "text": [
      "sagemaker.config INFO - Not applying SDK defaults from location: /etc/xdg/sagemaker/config.yaml\n",
      "sagemaker.config INFO - Not applying SDK defaults from location: /home/ec2-user/.config/sagemaker/config.yaml\n"
     ]
    }
   ],
   "source": [
    "s3_client=boto3.client('s3')\n",
    "response = s3_client.list_buckets()\n",
    "sess = sagemaker.Session()\n",
    "# region_name = 'eu-west-1'\n",
    "# s3_resource = boto3.resource('s3')\n",
    "# response = s3_resource.buckets.all()"
   ]
  },
  {
   "cell_type": "code",
   "execution_count": 3,
   "id": "558cc1e8",
   "metadata": {},
   "outputs": [],
   "source": [
    "for res in response['Buckets']:\n",
    "    bucket = res['Name']"
   ]
  },
  {
   "cell_type": "code",
   "execution_count": 62,
   "id": "cfdf2adf",
   "metadata": {},
   "outputs": [],
   "source": [
    "# s3_client.delete_object(Bucket=bucket, Key='datasets/Test.csv')\n",
    "# s3_client.delete_object(Bucket=bucket, Key=s3_client.list_objects_v2(Bucket=bucket)['Contents'][2]['Key'])\n",
    "# s3_client.delete_object(Bucket=bucket, Key='datasets/Account.csv/Train.csv')\n",
    "# s3_client.list_objects_v2(Bucket=bucket)['Contents']"
   ]
  },
  {
   "cell_type": "code",
   "execution_count": 63,
   "id": "08deaca9",
   "metadata": {},
   "outputs": [],
   "source": [
    "# s3_client.list_objects_v2(Bucket=bucket)['Contents']"
   ]
  },
  {
   "cell_type": "code",
   "execution_count": 4,
   "id": "a2136927",
   "metadata": {},
   "outputs": [],
   "source": [
    "folder = s3_client.list_objects_v2(Bucket=bucket)['Contents'][1]['Key']"
   ]
  },
  {
   "cell_type": "code",
   "execution_count": 5,
   "id": "9c0cf686",
   "metadata": {},
   "outputs": [],
   "source": [
    "dataset = pd.read_csv(f's3://{bucket}/{folder}')"
   ]
  },
  {
   "cell_type": "code",
   "execution_count": 6,
   "id": "8129301c",
   "metadata": {},
   "outputs": [
    {
     "name": "stdout",
     "output_type": "stream",
     "text": [
      "Collecting spacy\n",
      "  Obtaining dependency information for spacy from https://files.pythonhosted.org/packages/d6/c8/d659de66da2be05ad10fe029954a90a5fb6ddffb75aaab6702173e9dd0c9/spacy-3.7.2-cp310-cp310-manylinux_2_17_x86_64.manylinux2014_x86_64.whl.metadata\n",
      "  Downloading spacy-3.7.2-cp310-cp310-manylinux_2_17_x86_64.manylinux2014_x86_64.whl.metadata (25 kB)\n",
      "Collecting spacy-legacy<3.1.0,>=3.0.11 (from spacy)\n",
      "  Downloading spacy_legacy-3.0.12-py2.py3-none-any.whl (29 kB)\n",
      "Collecting spacy-loggers<2.0.0,>=1.0.0 (from spacy)\n",
      "  Obtaining dependency information for spacy-loggers<2.0.0,>=1.0.0 from https://files.pythonhosted.org/packages/33/78/d1a1a026ef3af911159398c939b1509d5c36fe524c7b644f34a5146c4e16/spacy_loggers-1.0.5-py3-none-any.whl.metadata\n",
      "  Downloading spacy_loggers-1.0.5-py3-none-any.whl.metadata (23 kB)\n",
      "Collecting murmurhash<1.1.0,>=0.28.0 (from spacy)\n",
      "  Obtaining dependency information for murmurhash<1.1.0,>=0.28.0 from https://files.pythonhosted.org/packages/a8/ca/359ae4246cccaf3f6386b66bd9ba4a39e6ec342f89e2c4def361a8cbe7cf/murmurhash-1.0.10-cp310-cp310-manylinux_2_5_x86_64.manylinux1_x86_64.manylinux_2_17_x86_64.manylinux2014_x86_64.whl.metadata\n",
      "  Downloading murmurhash-1.0.10-cp310-cp310-manylinux_2_5_x86_64.manylinux1_x86_64.manylinux_2_17_x86_64.manylinux2014_x86_64.whl.metadata (2.0 kB)\n",
      "Collecting cymem<2.1.0,>=2.0.2 (from spacy)\n",
      "  Obtaining dependency information for cymem<2.1.0,>=2.0.2 from https://files.pythonhosted.org/packages/e9/13/3bed1a1d1cce7937eb797d760c0cca973dbdc1891ad7e2f066ae418fd697/cymem-2.0.8-cp310-cp310-manylinux_2_17_x86_64.manylinux2014_x86_64.whl.metadata\n",
      "  Downloading cymem-2.0.8-cp310-cp310-manylinux_2_17_x86_64.manylinux2014_x86_64.whl.metadata (8.4 kB)\n",
      "Collecting preshed<3.1.0,>=3.0.2 (from spacy)\n",
      "  Obtaining dependency information for preshed<3.1.0,>=3.0.2 from https://files.pythonhosted.org/packages/42/59/8f65ad22c13020ff281529e415c32a56cfa691d24b0eca2eb3d756e4d644/preshed-3.0.9-cp310-cp310-manylinux_2_5_x86_64.manylinux1_x86_64.manylinux_2_17_x86_64.manylinux2014_x86_64.whl.metadata\n",
      "  Downloading preshed-3.0.9-cp310-cp310-manylinux_2_5_x86_64.manylinux1_x86_64.manylinux_2_17_x86_64.manylinux2014_x86_64.whl.metadata (2.2 kB)\n",
      "Collecting thinc<8.3.0,>=8.1.8 (from spacy)\n",
      "  Obtaining dependency information for thinc<8.3.0,>=8.1.8 from https://files.pythonhosted.org/packages/a9/75/fefdbcb0f32ccc4c67042d3554734b8c5203d9fa7e30112f57af5a7e33d8/thinc-8.2.1-cp310-cp310-manylinux_2_17_x86_64.manylinux2014_x86_64.whl.metadata\n",
      "  Downloading thinc-8.2.1-cp310-cp310-manylinux_2_17_x86_64.manylinux2014_x86_64.whl.metadata (15 kB)\n",
      "Collecting wasabi<1.2.0,>=0.9.1 (from spacy)\n",
      "  Obtaining dependency information for wasabi<1.2.0,>=0.9.1 from https://files.pythonhosted.org/packages/8f/69/26cbf0bad11703241cb84d5324d868097f7a8faf2f1888354dac8883f3fc/wasabi-1.1.2-py3-none-any.whl.metadata\n",
      "  Downloading wasabi-1.1.2-py3-none-any.whl.metadata (28 kB)\n",
      "Collecting srsly<3.0.0,>=2.4.3 (from spacy)\n",
      "  Obtaining dependency information for srsly<3.0.0,>=2.4.3 from https://files.pythonhosted.org/packages/32/69/2c054c6c5dc5daf5648f994f22377f3be44f79d643f3c3db255b4e86b391/srsly-2.4.8-cp310-cp310-manylinux_2_17_x86_64.manylinux2014_x86_64.whl.metadata\n",
      "  Downloading srsly-2.4.8-cp310-cp310-manylinux_2_17_x86_64.manylinux2014_x86_64.whl.metadata (20 kB)\n",
      "Collecting catalogue<2.1.0,>=2.0.6 (from spacy)\n",
      "  Obtaining dependency information for catalogue<2.1.0,>=2.0.6 from https://files.pythonhosted.org/packages/9e/96/d32b941a501ab566a16358d68b6eb4e4acc373fab3c3c4d7d9e649f7b4bb/catalogue-2.0.10-py3-none-any.whl.metadata\n",
      "  Downloading catalogue-2.0.10-py3-none-any.whl.metadata (14 kB)\n",
      "Collecting weasel<0.4.0,>=0.1.0 (from spacy)\n",
      "  Obtaining dependency information for weasel<0.4.0,>=0.1.0 from https://files.pythonhosted.org/packages/a6/76/41433e70b7c9ed47db8206536ecc6408362db44111c27f59e76af20377f2/weasel-0.3.3-py3-none-any.whl.metadata\n",
      "  Downloading weasel-0.3.3-py3-none-any.whl.metadata (4.7 kB)\n",
      "Collecting typer<0.10.0,>=0.3.0 (from spacy)\n",
      "  Downloading typer-0.9.0-py3-none-any.whl (45 kB)\n",
      "\u001b[2K     \u001b[90m━━━━━━━━━━━━━━━━━━━━━━━━━━━━━━━━━━━━━━━━\u001b[0m \u001b[32m45.9/45.9 kB\u001b[0m \u001b[31m1.2 MB/s\u001b[0m eta \u001b[36m0:00:00\u001b[0m\n",
      "\u001b[?25hCollecting smart-open<7.0.0,>=5.2.1 (from spacy)\n",
      "  Obtaining dependency information for smart-open<7.0.0,>=5.2.1 from https://files.pythonhosted.org/packages/fc/d9/d97f1db64b09278aba64e8c81b5d322d436132df5741c518f3823824fae0/smart_open-6.4.0-py3-none-any.whl.metadata\n",
      "  Downloading smart_open-6.4.0-py3-none-any.whl.metadata (21 kB)\n",
      "Requirement already satisfied: tqdm<5.0.0,>=4.38.0 in /home/ec2-user/anaconda3/envs/pytorch_p310/lib/python3.10/site-packages (from spacy) (4.65.0)\n",
      "Requirement already satisfied: requests<3.0.0,>=2.13.0 in /home/ec2-user/anaconda3/envs/pytorch_p310/lib/python3.10/site-packages (from spacy) (2.31.0)\n",
      "Requirement already satisfied: pydantic!=1.8,!=1.8.1,<3.0.0,>=1.7.4 in /home/ec2-user/anaconda3/envs/pytorch_p310/lib/python3.10/site-packages (from spacy) (2.0.3)\n",
      "Requirement already satisfied: jinja2 in /home/ec2-user/anaconda3/envs/pytorch_p310/lib/python3.10/site-packages (from spacy) (3.1.2)\n",
      "Requirement already satisfied: setuptools in /home/ec2-user/anaconda3/envs/pytorch_p310/lib/python3.10/site-packages (from spacy) (68.0.0)\n",
      "Requirement already satisfied: packaging>=20.0 in /home/ec2-user/anaconda3/envs/pytorch_p310/lib/python3.10/site-packages (from spacy) (21.3)\n",
      "Collecting langcodes<4.0.0,>=3.2.0 (from spacy)\n",
      "  Downloading langcodes-3.3.0-py3-none-any.whl (181 kB)\n",
      "\u001b[2K     \u001b[90m━━━━━━━━━━━━━━━━━━━━━━━━━━━━━━━━━━━━━━\u001b[0m \u001b[32m181.6/181.6 kB\u001b[0m \u001b[31m17.2 MB/s\u001b[0m eta \u001b[36m0:00:00\u001b[0m\n",
      "\u001b[?25hRequirement already satisfied: numpy>=1.19.0 in /home/ec2-user/anaconda3/envs/pytorch_p310/lib/python3.10/site-packages (from spacy) (1.24.4)\n",
      "Requirement already satisfied: pyparsing!=3.0.5,>=2.0.2 in /home/ec2-user/anaconda3/envs/pytorch_p310/lib/python3.10/site-packages (from packaging>=20.0->spacy) (3.0.9)\n",
      "Requirement already satisfied: annotated-types>=0.4.0 in /home/ec2-user/anaconda3/envs/pytorch_p310/lib/python3.10/site-packages (from pydantic!=1.8,!=1.8.1,<3.0.0,>=1.7.4->spacy) (0.5.0)\n",
      "Requirement already satisfied: pydantic-core==2.3.0 in /home/ec2-user/anaconda3/envs/pytorch_p310/lib/python3.10/site-packages (from pydantic!=1.8,!=1.8.1,<3.0.0,>=1.7.4->spacy) (2.3.0)\n",
      "Requirement already satisfied: typing-extensions>=4.6.1 in /home/ec2-user/anaconda3/envs/pytorch_p310/lib/python3.10/site-packages (from pydantic!=1.8,!=1.8.1,<3.0.0,>=1.7.4->spacy) (4.7.1)\n",
      "Requirement already satisfied: charset-normalizer<4,>=2 in /home/ec2-user/anaconda3/envs/pytorch_p310/lib/python3.10/site-packages (from requests<3.0.0,>=2.13.0->spacy) (3.2.0)\n",
      "Requirement already satisfied: idna<4,>=2.5 in /home/ec2-user/anaconda3/envs/pytorch_p310/lib/python3.10/site-packages (from requests<3.0.0,>=2.13.0->spacy) (3.4)\n",
      "Requirement already satisfied: urllib3<3,>=1.21.1 in /home/ec2-user/anaconda3/envs/pytorch_p310/lib/python3.10/site-packages (from requests<3.0.0,>=2.13.0->spacy) (1.26.14)\n",
      "Requirement already satisfied: certifi>=2017.4.17 in /home/ec2-user/anaconda3/envs/pytorch_p310/lib/python3.10/site-packages (from requests<3.0.0,>=2.13.0->spacy) (2023.5.7)\n",
      "Collecting blis<0.8.0,>=0.7.8 (from thinc<8.3.0,>=8.1.8->spacy)\n",
      "  Obtaining dependency information for blis<0.8.0,>=0.7.8 from https://files.pythonhosted.org/packages/9b/81/55092e1c016fe05ef7a57623920209012f05e8b897acbad355c9bf854181/blis-0.7.11-cp310-cp310-manylinux_2_17_x86_64.manylinux2014_x86_64.whl.metadata\n",
      "  Downloading blis-0.7.11-cp310-cp310-manylinux_2_17_x86_64.manylinux2014_x86_64.whl.metadata (7.4 kB)\n",
      "Collecting confection<1.0.0,>=0.0.1 (from thinc<8.3.0,>=8.1.8->spacy)\n",
      "  Obtaining dependency information for confection<1.0.0,>=0.0.1 from https://files.pythonhosted.org/packages/93/f8/e89268a1f885048fb2ee6b5c9f93c4e90de768534acfef3652f87d97d4cb/confection-0.1.3-py3-none-any.whl.metadata\n",
      "  Downloading confection-0.1.3-py3-none-any.whl.metadata (19 kB)\n",
      "Requirement already satisfied: click<9.0.0,>=7.1.1 in /home/ec2-user/anaconda3/envs/pytorch_p310/lib/python3.10/site-packages (from typer<0.10.0,>=0.3.0->spacy) (8.1.6)\n",
      "Collecting cloudpathlib<0.17.0,>=0.7.0 (from weasel<0.4.0,>=0.1.0->spacy)\n",
      "  Obtaining dependency information for cloudpathlib<0.17.0,>=0.7.0 from https://files.pythonhosted.org/packages/0f/6e/45b57a7d4573d85d0b0a39d99673dc1f5eea9d92a1a4603b35e968fbf89a/cloudpathlib-0.16.0-py3-none-any.whl.metadata\n"
     ]
    },
    {
     "name": "stdout",
     "output_type": "stream",
     "text": [
      "  Downloading cloudpathlib-0.16.0-py3-none-any.whl.metadata (14 kB)\n",
      "Requirement already satisfied: MarkupSafe>=2.0 in /home/ec2-user/anaconda3/envs/pytorch_p310/lib/python3.10/site-packages (from jinja2->spacy) (2.1.3)\n",
      "Downloading spacy-3.7.2-cp310-cp310-manylinux_2_17_x86_64.manylinux2014_x86_64.whl (6.6 MB)\n",
      "\u001b[2K   \u001b[90m━━━━━━━━━━━━━━━━━━━━━━━━━━━━━━━━━━━━━━━━\u001b[0m \u001b[32m6.6/6.6 MB\u001b[0m \u001b[31m32.2 MB/s\u001b[0m eta \u001b[36m0:00:00\u001b[0m00:01\u001b[0m00:01\u001b[0m\n",
      "\u001b[?25hDownloading catalogue-2.0.10-py3-none-any.whl (17 kB)\n",
      "Downloading cymem-2.0.8-cp310-cp310-manylinux_2_17_x86_64.manylinux2014_x86_64.whl (46 kB)\n",
      "\u001b[2K   \u001b[90m━━━━━━━━━━━━━━━━━━━━━━━━━━━━━━━━━━━━━━━━\u001b[0m \u001b[32m46.1/46.1 kB\u001b[0m \u001b[31m10.8 MB/s\u001b[0m eta \u001b[36m0:00:00\u001b[0m\n",
      "\u001b[?25hDownloading murmurhash-1.0.10-cp310-cp310-manylinux_2_5_x86_64.manylinux1_x86_64.manylinux_2_17_x86_64.manylinux2014_x86_64.whl (29 kB)\n",
      "Downloading preshed-3.0.9-cp310-cp310-manylinux_2_5_x86_64.manylinux1_x86_64.manylinux_2_17_x86_64.manylinux2014_x86_64.whl (156 kB)\n",
      "\u001b[2K   \u001b[90m━━━━━━━━━━━━━━━━━━━━━━━━━━━━━━━━━━━━━━━━\u001b[0m \u001b[32m156.9/156.9 kB\u001b[0m \u001b[31m26.6 MB/s\u001b[0m eta \u001b[36m0:00:00\u001b[0m\n",
      "\u001b[?25hDownloading smart_open-6.4.0-py3-none-any.whl (57 kB)\n",
      "\u001b[2K   \u001b[90m━━━━━━━━━━━━━━━━━━━━━━━━━━━━━━━━━━━━━━━━\u001b[0m \u001b[32m57.0/57.0 kB\u001b[0m \u001b[31m7.1 MB/s\u001b[0m eta \u001b[36m0:00:00\u001b[0m\n",
      "\u001b[?25hDownloading spacy_loggers-1.0.5-py3-none-any.whl (22 kB)\n",
      "Downloading srsly-2.4.8-cp310-cp310-manylinux_2_17_x86_64.manylinux2014_x86_64.whl (493 kB)\n",
      "\u001b[2K   \u001b[90m━━━━━━━━━━━━━━━━━━━━━━━━━━━━━━━━━━━━━━━━\u001b[0m \u001b[32m493.0/493.0 kB\u001b[0m \u001b[31m35.6 MB/s\u001b[0m eta \u001b[36m0:00:00\u001b[0m\n",
      "\u001b[?25hDownloading thinc-8.2.1-cp310-cp310-manylinux_2_17_x86_64.manylinux2014_x86_64.whl (920 kB)\n",
      "\u001b[2K   \u001b[90m━━━━━━━━━━━━━━━━━━━━━━━━━━━━━━━━━━━━━━━━\u001b[0m \u001b[32m920.6/920.6 kB\u001b[0m \u001b[31m43.0 MB/s\u001b[0m eta \u001b[36m0:00:00\u001b[0m\n",
      "\u001b[?25hDownloading wasabi-1.1.2-py3-none-any.whl (27 kB)\n",
      "Downloading weasel-0.3.3-py3-none-any.whl (49 kB)\n",
      "\u001b[2K   \u001b[90m━━━━━━━━━━━━━━━━━━━━━━━━━━━━━━━━━━━━━━━━\u001b[0m \u001b[32m49.8/49.8 kB\u001b[0m \u001b[31m10.1 MB/s\u001b[0m eta \u001b[36m0:00:00\u001b[0m\n",
      "\u001b[?25hDownloading blis-0.7.11-cp310-cp310-manylinux_2_17_x86_64.manylinux2014_x86_64.whl (10.2 MB)\n",
      "\u001b[2K   \u001b[90m━━━━━━━━━━━━━━━━━━━━━━━━━━━━━━━━━━━━━━━━\u001b[0m \u001b[32m10.2/10.2 MB\u001b[0m \u001b[31m28.5 MB/s\u001b[0m eta \u001b[36m0:00:00\u001b[0m00:01\u001b[0m0:01\u001b[0m\n",
      "\u001b[?25hDownloading cloudpathlib-0.16.0-py3-none-any.whl (45 kB)\n",
      "\u001b[2K   \u001b[90m━━━━━━━━━━━━━━━━━━━━━━━━━━━━━━━━━━━━━━━━\u001b[0m \u001b[32m45.0/45.0 kB\u001b[0m \u001b[31m5.7 MB/s\u001b[0m eta \u001b[36m0:00:00\u001b[0m\n",
      "\u001b[?25hDownloading confection-0.1.3-py3-none-any.whl (34 kB)\n",
      "Installing collected packages: cymem, wasabi, typer, spacy-loggers, spacy-legacy, smart-open, murmurhash, langcodes, cloudpathlib, catalogue, blis, srsly, preshed, confection, weasel, thinc, spacy\n",
      "Successfully installed blis-0.7.11 catalogue-2.0.10 cloudpathlib-0.16.0 confection-0.1.3 cymem-2.0.8 langcodes-3.3.0 murmurhash-1.0.10 preshed-3.0.9 smart-open-6.4.0 spacy-3.7.2 spacy-legacy-3.0.12 spacy-loggers-1.0.5 srsly-2.4.8 thinc-8.2.1 typer-0.9.0 wasabi-1.1.2 weasel-0.3.3\n",
      "Note: you may need to restart the kernel to use updated packages.\n"
     ]
    },
    {
     "name": "stderr",
     "output_type": "stream",
     "text": [
      "/home/ec2-user/anaconda3/envs/pytorch_p310/lib/python3.10/site-packages/torch/cuda/__init__.py:551: UserWarning: Can't initialize NVML\n",
      "  warnings.warn(\"Can't initialize NVML\")\n"
     ]
    },
    {
     "name": "stdout",
     "output_type": "stream",
     "text": [
      "/home/ec2-user/anaconda3/envs/pytorch_p310/lib/python3.10/site-packages/torch/cuda/__init__.py:551: UserWarning: Can't initialize NVML\n",
      "  warnings.warn(\"Can't initialize NVML\")\n",
      "Collecting en-core-web-sm==3.7.0\n",
      "  Downloading https://github.com/explosion/spacy-models/releases/download/en_core_web_sm-3.7.0/en_core_web_sm-3.7.0-py3-none-any.whl (12.8 MB)\n",
      "\u001b[2K     \u001b[90m━━━━━━━━━━━━━━━━━━━━━━━━━━━━━━━━━━━━━━━━\u001b[0m \u001b[32m12.8/12.8 MB\u001b[0m \u001b[31m11.4 MB/s\u001b[0m eta \u001b[36m0:00:00\u001b[0m00:01\u001b[0m00:01\u001b[0m\n",
      "\u001b[?25hRequirement already satisfied: spacy<3.8.0,>=3.7.0 in /home/ec2-user/anaconda3/envs/pytorch_p310/lib/python3.10/site-packages (from en-core-web-sm==3.7.0) (3.7.2)\n",
      "Requirement already satisfied: spacy-legacy<3.1.0,>=3.0.11 in /home/ec2-user/anaconda3/envs/pytorch_p310/lib/python3.10/site-packages (from spacy<3.8.0,>=3.7.0->en-core-web-sm==3.7.0) (3.0.12)\n",
      "Requirement already satisfied: spacy-loggers<2.0.0,>=1.0.0 in /home/ec2-user/anaconda3/envs/pytorch_p310/lib/python3.10/site-packages (from spacy<3.8.0,>=3.7.0->en-core-web-sm==3.7.0) (1.0.5)\n",
      "Requirement already satisfied: murmurhash<1.1.0,>=0.28.0 in /home/ec2-user/anaconda3/envs/pytorch_p310/lib/python3.10/site-packages (from spacy<3.8.0,>=3.7.0->en-core-web-sm==3.7.0) (1.0.10)\n",
      "Requirement already satisfied: cymem<2.1.0,>=2.0.2 in /home/ec2-user/anaconda3/envs/pytorch_p310/lib/python3.10/site-packages (from spacy<3.8.0,>=3.7.0->en-core-web-sm==3.7.0) (2.0.8)\n",
      "Requirement already satisfied: preshed<3.1.0,>=3.0.2 in /home/ec2-user/anaconda3/envs/pytorch_p310/lib/python3.10/site-packages (from spacy<3.8.0,>=3.7.0->en-core-web-sm==3.7.0) (3.0.9)\n",
      "Requirement already satisfied: thinc<8.3.0,>=8.1.8 in /home/ec2-user/anaconda3/envs/pytorch_p310/lib/python3.10/site-packages (from spacy<3.8.0,>=3.7.0->en-core-web-sm==3.7.0) (8.2.1)\n",
      "Requirement already satisfied: wasabi<1.2.0,>=0.9.1 in /home/ec2-user/anaconda3/envs/pytorch_p310/lib/python3.10/site-packages (from spacy<3.8.0,>=3.7.0->en-core-web-sm==3.7.0) (1.1.2)\n",
      "Requirement already satisfied: srsly<3.0.0,>=2.4.3 in /home/ec2-user/anaconda3/envs/pytorch_p310/lib/python3.10/site-packages (from spacy<3.8.0,>=3.7.0->en-core-web-sm==3.7.0) (2.4.8)\n",
      "Requirement already satisfied: catalogue<2.1.0,>=2.0.6 in /home/ec2-user/anaconda3/envs/pytorch_p310/lib/python3.10/site-packages (from spacy<3.8.0,>=3.7.0->en-core-web-sm==3.7.0) (2.0.10)\n",
      "Requirement already satisfied: weasel<0.4.0,>=0.1.0 in /home/ec2-user/anaconda3/envs/pytorch_p310/lib/python3.10/site-packages (from spacy<3.8.0,>=3.7.0->en-core-web-sm==3.7.0) (0.3.3)\n",
      "Requirement already satisfied: typer<0.10.0,>=0.3.0 in /home/ec2-user/anaconda3/envs/pytorch_p310/lib/python3.10/site-packages (from spacy<3.8.0,>=3.7.0->en-core-web-sm==3.7.0) (0.9.0)\n",
      "Requirement already satisfied: smart-open<7.0.0,>=5.2.1 in /home/ec2-user/anaconda3/envs/pytorch_p310/lib/python3.10/site-packages (from spacy<3.8.0,>=3.7.0->en-core-web-sm==3.7.0) (6.4.0)\n",
      "Requirement already satisfied: tqdm<5.0.0,>=4.38.0 in /home/ec2-user/anaconda3/envs/pytorch_p310/lib/python3.10/site-packages (from spacy<3.8.0,>=3.7.0->en-core-web-sm==3.7.0) (4.65.0)\n",
      "Requirement already satisfied: requests<3.0.0,>=2.13.0 in /home/ec2-user/anaconda3/envs/pytorch_p310/lib/python3.10/site-packages (from spacy<3.8.0,>=3.7.0->en-core-web-sm==3.7.0) (2.31.0)\n",
      "Requirement already satisfied: pydantic!=1.8,!=1.8.1,<3.0.0,>=1.7.4 in /home/ec2-user/anaconda3/envs/pytorch_p310/lib/python3.10/site-packages (from spacy<3.8.0,>=3.7.0->en-core-web-sm==3.7.0) (2.0.3)\n",
      "Requirement already satisfied: jinja2 in /home/ec2-user/anaconda3/envs/pytorch_p310/lib/python3.10/site-packages (from spacy<3.8.0,>=3.7.0->en-core-web-sm==3.7.0) (3.1.2)\n",
      "Requirement already satisfied: setuptools in /home/ec2-user/anaconda3/envs/pytorch_p310/lib/python3.10/site-packages (from spacy<3.8.0,>=3.7.0->en-core-web-sm==3.7.0) (68.0.0)\n",
      "Requirement already satisfied: packaging>=20.0 in /home/ec2-user/anaconda3/envs/pytorch_p310/lib/python3.10/site-packages (from spacy<3.8.0,>=3.7.0->en-core-web-sm==3.7.0) (21.3)\n",
      "Requirement already satisfied: langcodes<4.0.0,>=3.2.0 in /home/ec2-user/anaconda3/envs/pytorch_p310/lib/python3.10/site-packages (from spacy<3.8.0,>=3.7.0->en-core-web-sm==3.7.0) (3.3.0)\n",
      "Requirement already satisfied: numpy>=1.19.0 in /home/ec2-user/anaconda3/envs/pytorch_p310/lib/python3.10/site-packages (from spacy<3.8.0,>=3.7.0->en-core-web-sm==3.7.0) (1.24.4)\n",
      "Requirement already satisfied: pyparsing!=3.0.5,>=2.0.2 in /home/ec2-user/anaconda3/envs/pytorch_p310/lib/python3.10/site-packages (from packaging>=20.0->spacy<3.8.0,>=3.7.0->en-core-web-sm==3.7.0) (3.0.9)\n",
      "Requirement already satisfied: annotated-types>=0.4.0 in /home/ec2-user/anaconda3/envs/pytorch_p310/lib/python3.10/site-packages (from pydantic!=1.8,!=1.8.1,<3.0.0,>=1.7.4->spacy<3.8.0,>=3.7.0->en-core-web-sm==3.7.0) (0.5.0)\n",
      "Requirement already satisfied: pydantic-core==2.3.0 in /home/ec2-user/anaconda3/envs/pytorch_p310/lib/python3.10/site-packages (from pydantic!=1.8,!=1.8.1,<3.0.0,>=1.7.4->spacy<3.8.0,>=3.7.0->en-core-web-sm==3.7.0) (2.3.0)\n",
      "Requirement already satisfied: typing-extensions>=4.6.1 in /home/ec2-user/anaconda3/envs/pytorch_p310/lib/python3.10/site-packages (from pydantic!=1.8,!=1.8.1,<3.0.0,>=1.7.4->spacy<3.8.0,>=3.7.0->en-core-web-sm==3.7.0) (4.7.1)\n",
      "Requirement already satisfied: charset-normalizer<4,>=2 in /home/ec2-user/anaconda3/envs/pytorch_p310/lib/python3.10/site-packages (from requests<3.0.0,>=2.13.0->spacy<3.8.0,>=3.7.0->en-core-web-sm==3.7.0) (3.2.0)\n",
      "Requirement already satisfied: idna<4,>=2.5 in /home/ec2-user/anaconda3/envs/pytorch_p310/lib/python3.10/site-packages (from requests<3.0.0,>=2.13.0->spacy<3.8.0,>=3.7.0->en-core-web-sm==3.7.0) (3.4)\n",
      "Requirement already satisfied: urllib3<3,>=1.21.1 in /home/ec2-user/anaconda3/envs/pytorch_p310/lib/python3.10/site-packages (from requests<3.0.0,>=2.13.0->spacy<3.8.0,>=3.7.0->en-core-web-sm==3.7.0) (1.26.14)\n",
      "Requirement already satisfied: certifi>=2017.4.17 in /home/ec2-user/anaconda3/envs/pytorch_p310/lib/python3.10/site-packages (from requests<3.0.0,>=2.13.0->spacy<3.8.0,>=3.7.0->en-core-web-sm==3.7.0) (2023.5.7)\n",
      "Requirement already satisfied: blis<0.8.0,>=0.7.8 in /home/ec2-user/anaconda3/envs/pytorch_p310/lib/python3.10/site-packages (from thinc<8.3.0,>=8.1.8->spacy<3.8.0,>=3.7.0->en-core-web-sm==3.7.0) (0.7.11)\n",
      "Requirement already satisfied: confection<1.0.0,>=0.0.1 in /home/ec2-user/anaconda3/envs/pytorch_p310/lib/python3.10/site-packages (from thinc<8.3.0,>=8.1.8->spacy<3.8.0,>=3.7.0->en-core-web-sm==3.7.0) (0.1.3)\n",
      "Requirement already satisfied: click<9.0.0,>=7.1.1 in /home/ec2-user/anaconda3/envs/pytorch_p310/lib/python3.10/site-packages (from typer<0.10.0,>=0.3.0->spacy<3.8.0,>=3.7.0->en-core-web-sm==3.7.0) (8.1.6)\n",
      "Requirement already satisfied: cloudpathlib<0.17.0,>=0.7.0 in /home/ec2-user/anaconda3/envs/pytorch_p310/lib/python3.10/site-packages (from weasel<0.4.0,>=0.1.0->spacy<3.8.0,>=3.7.0->en-core-web-sm==3.7.0) (0.16.0)\n",
      "Requirement already satisfied: MarkupSafe>=2.0 in /home/ec2-user/anaconda3/envs/pytorch_p310/lib/python3.10/site-packages (from jinja2->spacy<3.8.0,>=3.7.0->en-core-web-sm==3.7.0) (2.1.3)\n",
      "Installing collected packages: en-core-web-sm\n",
      "Successfully installed en-core-web-sm-3.7.0\n",
      "\u001b[38;5;2m✔ Download and installation successful\u001b[0m\n",
      "You can now load the package via spacy.load('en_core_web_sm')\n",
      "Collecting xgboost\n",
      "  Obtaining dependency information for xgboost from https://files.pythonhosted.org/packages/c1/cf/a662bc8f40588d54663edfe12980946670490bff0b6e793c7896a4fe36df/xgboost-2.0.0-py3-none-manylinux2014_x86_64.whl.metadata\n",
      "  Downloading xgboost-2.0.0-py3-none-manylinux2014_x86_64.whl.metadata (2.0 kB)\n",
      "Requirement already satisfied: numpy in /home/ec2-user/anaconda3/envs/pytorch_p310/lib/python3.10/site-packages (from xgboost) (1.24.4)\n",
      "Requirement already satisfied: scipy in /home/ec2-user/anaconda3/envs/pytorch_p310/lib/python3.10/site-packages (from xgboost) (1.11.1)\n",
      "Downloading xgboost-2.0.0-py3-none-manylinux2014_x86_64.whl (297.1 MB)\n",
      "\u001b[2K   \u001b[90m━━━━━━━━━━━━━━━━━━━━━━━━━━━━━━━━━━━━━━━━\u001b[0m \u001b[32m297.1/297.1 MB\u001b[0m \u001b[31m2.2 MB/s\u001b[0m eta \u001b[36m0:00:00\u001b[0m:00:01\u001b[0m00:01\u001b[0m\n",
      "\u001b[?25hInstalling collected packages: xgboost\n",
      "Successfully installed xgboost-2.0.0\n"
     ]
    },
    {
     "name": "stdout",
     "output_type": "stream",
     "text": [
      "Note: you may need to restart the kernel to use updated packages.\n",
      "Collecting scikit-optimize\n",
      "  Downloading scikit_optimize-0.9.0-py2.py3-none-any.whl (100 kB)\n",
      "\u001b[2K     \u001b[90m━━━━━━━━━━━━━━━━━━━━━━━━━━━━━━━━━━━━━━━\u001b[0m \u001b[32m100.3/100.3 kB\u001b[0m \u001b[31m7.9 MB/s\u001b[0m eta \u001b[36m0:00:00\u001b[0m\n",
      "\u001b[?25hRequirement already satisfied: joblib>=0.11 in /home/ec2-user/anaconda3/envs/pytorch_p310/lib/python3.10/site-packages (from scikit-optimize) (1.3.1)\n",
      "Collecting pyaml>=16.9 (from scikit-optimize)\n",
      "  Obtaining dependency information for pyaml>=16.9 from https://files.pythonhosted.org/packages/7e/ed/b5f644b7a1de2e966345e60dacc040d98371213df6ae4070ba19280ae6d4/pyaml-23.9.7-py3-none-any.whl.metadata\n",
      "  Downloading pyaml-23.9.7-py3-none-any.whl.metadata (11 kB)\n",
      "Requirement already satisfied: numpy>=1.13.3 in /home/ec2-user/anaconda3/envs/pytorch_p310/lib/python3.10/site-packages (from scikit-optimize) (1.24.4)\n",
      "Requirement already satisfied: scipy>=0.19.1 in /home/ec2-user/anaconda3/envs/pytorch_p310/lib/python3.10/site-packages (from scikit-optimize) (1.11.1)\n",
      "Requirement already satisfied: scikit-learn>=0.20.0 in /home/ec2-user/anaconda3/envs/pytorch_p310/lib/python3.10/site-packages (from scikit-optimize) (1.3.0)\n",
      "Requirement already satisfied: PyYAML in /home/ec2-user/anaconda3/envs/pytorch_p310/lib/python3.10/site-packages (from pyaml>=16.9->scikit-optimize) (6.0)\n",
      "Requirement already satisfied: threadpoolctl>=2.0.0 in /home/ec2-user/anaconda3/envs/pytorch_p310/lib/python3.10/site-packages (from scikit-learn>=0.20.0->scikit-optimize) (3.2.0)\n",
      "Downloading pyaml-23.9.7-py3-none-any.whl (23 kB)\n",
      "Installing collected packages: pyaml, scikit-optimize\n",
      "Successfully installed pyaml-23.9.7 scikit-optimize-0.9.0\n",
      "Note: you may need to restart the kernel to use updated packages.\n"
     ]
    }
   ],
   "source": [
    "# from nltk import word_tokenize\n",
    "%pip install spacy\n",
    "import spacy\n",
    "!python -m spacy download en_core_web_sm\n",
    "%pip install xgboost\n",
    "%pip install scikit-optimize\n",
    "from sklearn.model_selection import train_test_split, StratifiedKFold\n",
    "from xgboost import XGBClassifier\n",
    "from skopt import BayesSearchCV\n",
    "from skopt.space import Categorical, Real, Integer\n",
    "from sklearn.preprocessing import LabelEncoder\n",
    "import numpy as np"
   ]
  },
  {
   "cell_type": "code",
   "execution_count": 7,
   "id": "51ab726b",
   "metadata": {},
   "outputs": [],
   "source": [
    "nlp = spacy.load('en_core_web_sm')"
   ]
  },
  {
   "cell_type": "code",
   "execution_count": 47,
   "id": "13176505",
   "metadata": {},
   "outputs": [],
   "source": [
    "# text = nlp(dataset['text'][0])\n",
    "# dataset['text'][:100].to_list()\n",
    "# list(nlp.pipe(dataset['text'][:100]))"
   ]
  },
  {
   "cell_type": "code",
   "execution_count": 45,
   "id": "a6e29a74",
   "metadata": {},
   "outputs": [
    {
     "data": {
      "text/plain": [
       "give me information about the cancellation of an account"
      ]
     },
     "execution_count": 45,
     "metadata": {},
     "output_type": "execute_result"
    }
   ],
   "source": [
    "next(spacy_text)"
   ]
  },
  {
   "cell_type": "code",
   "execution_count": 8,
   "id": "b6e61adc",
   "metadata": {},
   "outputs": [],
   "source": [
    "# :\n",
    "#     print(t.lemma_)\n",
    "#     print('-->', t.is_stop == False)\n",
    "spacy_text = nlp.pipe(dataset['text'])\n",
    "word_vextors = [text.vector for text in spacy_text]\n",
    "\n",
    "# ' '.join([t.lemma_ for t in text if t.is_stop == False [text for text in spacy_text]])"
   ]
  },
  {
   "cell_type": "code",
   "execution_count": 9,
   "id": "6dfa6736",
   "metadata": {},
   "outputs": [],
   "source": [
    "word_vextors_df = pd.DataFrame(word_vextors)\n",
    "total_dataset = pd.concat([dataset, word_vextors_df], axis=1)\n",
    "le = LabelEncoder()\n",
    "total_dataset['labels'] = le.fit_transform(total_dataset['label'])"
   ]
  },
  {
   "cell_type": "code",
   "execution_count": 10,
   "id": "45da090f",
   "metadata": {},
   "outputs": [],
   "source": [
    "xtrain, xtest, ytrain, ytest = train_test_split(total_dataset.iloc[:,2:-1], total_dataset['labels'], test_size=0.1, random_state=34, stratify=total_dataset['labels'])\n"
   ]
  },
  {
   "cell_type": "code",
   "execution_count": 64,
   "id": "d3b441b0",
   "metadata": {},
   "outputs": [],
   "source": [
    "train_dataset = pd.concat([ytrain, xtrain], axis=1)\n",
    "test_dataset = pd.concat([ytest, xtest], axis=1)\n",
    "\n",
    "train_dataset.to_csv('Train.csv', index=False, header=False)\n",
    "test_dataset.to_csv('Test.csv', index=False, header=False)\n",
    "import os\n",
    "\n",
    "train_file_name = os.path.join('datasets/', \"Train.csv\")\n",
    "test_file_name = os.path.join('datasets/', \"Test.csv\")\n",
    "\n",
    "s3_client.upload_file(\"Train.csv\", bucket, train_file_name)\n",
    "s3_client.upload_file(\"Test.csv\", bucket, test_file_name)"
   ]
  },
  {
   "cell_type": "code",
   "execution_count": 14,
   "id": "68c7b0c3",
   "metadata": {},
   "outputs": [
    {
     "name": "stdout",
     "output_type": "stream",
     "text": [
      "2023-10-16 17:21:37          0 datasets/\r\n",
      "2023-10-16 17:23:37    1035268 datasets/Account.csv\r\n",
      "2023-10-17 18:53:40    1754400 datasets/Test.csv\r\n",
      "2023-10-17 18:51:56   15783921 datasets/Train.csv\r\n"
     ]
    }
   ],
   "source": [
    "! aws s3 ls {bucket}/ --recursive"
   ]
  },
  {
   "cell_type": "code",
   "execution_count": 90,
   "id": "5baf2664",
   "metadata": {},
   "outputs": [],
   "source": [
    "xgb_classifier = XGBClassifier(objective='multi:softmax', \n",
    "                               num_class=6,\n",
    "                               n_jobs = 1,\n",
    "#                                early_stopping_rounds=10, \n",
    "                               eval_metric=['merror','mlogloss']\n",
    "                              )\n",
    "\n",
    "# param_space = {\n",
    "#               'gamma': [0,0.1,0.2,0.4,0.8,1.6,3.2,6.4,12.8,25.6,51.2,102.4, 200],\n",
    "#               'learning_rate': [0.01, 0.03, 0.06, 0.1, 0.15, 0.2, 0.25, 0.300000012, 0.4, 0.5, 0.6, 0.7],\n",
    "#               'max_depth': [5,6,7,8,9,10,11,12,13,14],\n",
    "#               'n_estimators': [50,65,80,100,115,130,150],\n",
    "#               'reg_alpha': [0,0.1,0.2,0.4,0.8,1.6,3.2,6.4,12.8,25.6,51.2,102.4,200],\n",
    "#               'reg_lambda': [0,0.1,0.2,0.4,0.8,1.6,3.2,6.4,12.8,25.6,51.2,102.4,200]\n",
    "# }\n",
    "\n",
    "param_space = {\n",
    "    'learning_rate': Real(0.001, 1.0, prior='log-uniform'),\n",
    "    'n_estimators': Integer(50, 200),\n",
    "    'max_depth': Integer(3, 10),\n",
    "#     'subsample': Real(0.5, 1.0, prior='uniform'),\n",
    "#     'colsample_bytree': Real(0.5, 1.0, prior='uniform'),\n",
    "#     'min_child_weight': Integer(1, 10),\n",
    "    'gamma': Real(0, 5.0),\n",
    "    'reg_alpha': Real(0, 5.0),\n",
    "    'reg_lambda': Real(0, 5.0)\n",
    "}\n",
    "\n",
    "\n",
    "bayes_opt = BayesSearchCV(estimator=xgb_classifier, \n",
    "                          cv=StratifiedKFold(\n",
    "                              n_splits=5,\n",
    "                              shuffle=True,\n",
    "                              random_state=34),\n",
    "                          scoring = 'f1_weighted',\n",
    "                          search_spaces=param_space,\n",
    "                          n_jobs = -1,\n",
    "                          n_iter = 10,\n",
    "                          verbose = 1,\n",
    "                          random_state = 34)\n",
    "\n"
   ]
  },
  {
   "cell_type": "code",
   "execution_count": 91,
   "id": "a6cad6d0",
   "metadata": {},
   "outputs": [
    {
     "name": "stdout",
     "output_type": "stream",
     "text": [
      "Fitting 5 folds for each of 1 candidates, totalling 5 fits\n",
      "Fitting 5 folds for each of 1 candidates, totalling 5 fits\n",
      "Fitting 5 folds for each of 1 candidates, totalling 5 fits\n",
      "Fitting 5 folds for each of 1 candidates, totalling 5 fits\n",
      "Fitting 5 folds for each of 1 candidates, totalling 5 fits\n",
      "Fitting 5 folds for each of 1 candidates, totalling 5 fits\n",
      "Fitting 5 folds for each of 1 candidates, totalling 5 fits\n",
      "Fitting 5 folds for each of 1 candidates, totalling 5 fits\n",
      "Fitting 5 folds for each of 1 candidates, totalling 5 fits\n",
      "Fitting 5 folds for each of 1 candidates, totalling 5 fits\n"
     ]
    },
    {
     "data": {
      "text/html": [
       "<style>#sk-container-id-2 {color: black;}#sk-container-id-2 pre{padding: 0;}#sk-container-id-2 div.sk-toggleable {background-color: white;}#sk-container-id-2 label.sk-toggleable__label {cursor: pointer;display: block;width: 100%;margin-bottom: 0;padding: 0.3em;box-sizing: border-box;text-align: center;}#sk-container-id-2 label.sk-toggleable__label-arrow:before {content: \"▸\";float: left;margin-right: 0.25em;color: #696969;}#sk-container-id-2 label.sk-toggleable__label-arrow:hover:before {color: black;}#sk-container-id-2 div.sk-estimator:hover label.sk-toggleable__label-arrow:before {color: black;}#sk-container-id-2 div.sk-toggleable__content {max-height: 0;max-width: 0;overflow: hidden;text-align: left;background-color: #f0f8ff;}#sk-container-id-2 div.sk-toggleable__content pre {margin: 0.2em;color: black;border-radius: 0.25em;background-color: #f0f8ff;}#sk-container-id-2 input.sk-toggleable__control:checked~div.sk-toggleable__content {max-height: 200px;max-width: 100%;overflow: auto;}#sk-container-id-2 input.sk-toggleable__control:checked~label.sk-toggleable__label-arrow:before {content: \"▾\";}#sk-container-id-2 div.sk-estimator input.sk-toggleable__control:checked~label.sk-toggleable__label {background-color: #d4ebff;}#sk-container-id-2 div.sk-label input.sk-toggleable__control:checked~label.sk-toggleable__label {background-color: #d4ebff;}#sk-container-id-2 input.sk-hidden--visually {border: 0;clip: rect(1px 1px 1px 1px);clip: rect(1px, 1px, 1px, 1px);height: 1px;margin: -1px;overflow: hidden;padding: 0;position: absolute;width: 1px;}#sk-container-id-2 div.sk-estimator {font-family: monospace;background-color: #f0f8ff;border: 1px dotted black;border-radius: 0.25em;box-sizing: border-box;margin-bottom: 0.5em;}#sk-container-id-2 div.sk-estimator:hover {background-color: #d4ebff;}#sk-container-id-2 div.sk-parallel-item::after {content: \"\";width: 100%;border-bottom: 1px solid gray;flex-grow: 1;}#sk-container-id-2 div.sk-label:hover label.sk-toggleable__label {background-color: #d4ebff;}#sk-container-id-2 div.sk-serial::before {content: \"\";position: absolute;border-left: 1px solid gray;box-sizing: border-box;top: 0;bottom: 0;left: 50%;z-index: 0;}#sk-container-id-2 div.sk-serial {display: flex;flex-direction: column;align-items: center;background-color: white;padding-right: 0.2em;padding-left: 0.2em;position: relative;}#sk-container-id-2 div.sk-item {position: relative;z-index: 1;}#sk-container-id-2 div.sk-parallel {display: flex;align-items: stretch;justify-content: center;background-color: white;position: relative;}#sk-container-id-2 div.sk-item::before, #sk-container-id-2 div.sk-parallel-item::before {content: \"\";position: absolute;border-left: 1px solid gray;box-sizing: border-box;top: 0;bottom: 0;left: 50%;z-index: -1;}#sk-container-id-2 div.sk-parallel-item {display: flex;flex-direction: column;z-index: 1;position: relative;background-color: white;}#sk-container-id-2 div.sk-parallel-item:first-child::after {align-self: flex-end;width: 50%;}#sk-container-id-2 div.sk-parallel-item:last-child::after {align-self: flex-start;width: 50%;}#sk-container-id-2 div.sk-parallel-item:only-child::after {width: 0;}#sk-container-id-2 div.sk-dashed-wrapped {border: 1px dashed gray;margin: 0 0.4em 0.5em 0.4em;box-sizing: border-box;padding-bottom: 0.4em;background-color: white;}#sk-container-id-2 div.sk-label label {font-family: monospace;font-weight: bold;display: inline-block;line-height: 1.2em;}#sk-container-id-2 div.sk-label-container {text-align: center;}#sk-container-id-2 div.sk-container {/* jupyter's `normalize.less` sets `[hidden] { display: none; }` but bootstrap.min.css set `[hidden] { display: none !important; }` so we also need the `!important` here to be able to override the default hidden behavior on the sphinx rendered scikit-learn.org. See: https://github.com/scikit-learn/scikit-learn/issues/21755 */display: inline-block !important;position: relative;}#sk-container-id-2 div.sk-text-repr-fallback {display: none;}</style><div id=\"sk-container-id-2\" class=\"sk-top-container\"><div class=\"sk-text-repr-fallback\"><pre>BayesSearchCV(cv=StratifiedKFold(n_splits=5, random_state=34, shuffle=True),\n",
       "              estimator=XGBClassifier(base_score=None, booster=None,\n",
       "                                      callbacks=None, colsample_bylevel=None,\n",
       "                                      colsample_bynode=None,\n",
       "                                      colsample_bytree=None, device=None,\n",
       "                                      early_stopping_rounds=None,\n",
       "                                      enable_categorical=False,\n",
       "                                      eval_metric=[&#x27;mlogloss&#x27;],\n",
       "                                      feature_types=None, gamma=None,\n",
       "                                      grow_policy=None, impor...\n",
       "                             &#x27;learning_rate&#x27;: Real(low=0.01, high=1.0, prior=&#x27;log-uniform&#x27;, transform=&#x27;normalize&#x27;),\n",
       "                             &#x27;max_depth&#x27;: Integer(low=3, high=10, prior=&#x27;uniform&#x27;, transform=&#x27;normalize&#x27;),\n",
       "                             &#x27;n_estimators&#x27;: Integer(low=50, high=200, prior=&#x27;uniform&#x27;, transform=&#x27;normalize&#x27;),\n",
       "                             &#x27;reg_alpha&#x27;: Real(low=0, high=5.0, prior=&#x27;uniform&#x27;, transform=&#x27;normalize&#x27;),\n",
       "                             &#x27;reg_lambda&#x27;: Real(low=0, high=5.0, prior=&#x27;uniform&#x27;, transform=&#x27;normalize&#x27;)},\n",
       "              verbose=1)</pre><b>In a Jupyter environment, please rerun this cell to show the HTML representation or trust the notebook. <br />On GitHub, the HTML representation is unable to render, please try loading this page with nbviewer.org.</b></div><div class=\"sk-container\" hidden><div class=\"sk-item sk-dashed-wrapped\"><div class=\"sk-label-container\"><div class=\"sk-label sk-toggleable\"><input class=\"sk-toggleable__control sk-hidden--visually\" id=\"sk-estimator-id-4\" type=\"checkbox\" ><label for=\"sk-estimator-id-4\" class=\"sk-toggleable__label sk-toggleable__label-arrow\">BayesSearchCV</label><div class=\"sk-toggleable__content\"><pre>BayesSearchCV(cv=StratifiedKFold(n_splits=5, random_state=34, shuffle=True),\n",
       "              estimator=XGBClassifier(base_score=None, booster=None,\n",
       "                                      callbacks=None, colsample_bylevel=None,\n",
       "                                      colsample_bynode=None,\n",
       "                                      colsample_bytree=None, device=None,\n",
       "                                      early_stopping_rounds=None,\n",
       "                                      enable_categorical=False,\n",
       "                                      eval_metric=[&#x27;mlogloss&#x27;],\n",
       "                                      feature_types=None, gamma=None,\n",
       "                                      grow_policy=None, impor...\n",
       "                             &#x27;learning_rate&#x27;: Real(low=0.01, high=1.0, prior=&#x27;log-uniform&#x27;, transform=&#x27;normalize&#x27;),\n",
       "                             &#x27;max_depth&#x27;: Integer(low=3, high=10, prior=&#x27;uniform&#x27;, transform=&#x27;normalize&#x27;),\n",
       "                             &#x27;n_estimators&#x27;: Integer(low=50, high=200, prior=&#x27;uniform&#x27;, transform=&#x27;normalize&#x27;),\n",
       "                             &#x27;reg_alpha&#x27;: Real(low=0, high=5.0, prior=&#x27;uniform&#x27;, transform=&#x27;normalize&#x27;),\n",
       "                             &#x27;reg_lambda&#x27;: Real(low=0, high=5.0, prior=&#x27;uniform&#x27;, transform=&#x27;normalize&#x27;)},\n",
       "              verbose=1)</pre></div></div></div><div class=\"sk-parallel\"><div class=\"sk-parallel-item\"><div class=\"sk-item\"><div class=\"sk-label-container\"><div class=\"sk-label sk-toggleable\"><input class=\"sk-toggleable__control sk-hidden--visually\" id=\"sk-estimator-id-5\" type=\"checkbox\" ><label for=\"sk-estimator-id-5\" class=\"sk-toggleable__label sk-toggleable__label-arrow\">estimator: XGBClassifier</label><div class=\"sk-toggleable__content\"><pre>XGBClassifier(base_score=None, booster=None, callbacks=None,\n",
       "              colsample_bylevel=None, colsample_bynode=None,\n",
       "              colsample_bytree=None, device=None, early_stopping_rounds=None,\n",
       "              enable_categorical=False, eval_metric=[&#x27;mlogloss&#x27;],\n",
       "              feature_types=None, gamma=None, grow_policy=None,\n",
       "              importance_type=None, interaction_constraints=None,\n",
       "              learning_rate=None, max_bin=None, max_cat_threshold=None,\n",
       "              max_cat_to_onehot=None, max_delta_step=None, max_depth=None,\n",
       "              max_leaves=None, min_child_weight=None, missing=nan,\n",
       "              monotone_constraints=None, multi_strategy=None, n_estimators=None,\n",
       "              n_jobs=1, num_class=6, num_parallel_tree=None, ...)</pre></div></div></div><div class=\"sk-serial\"><div class=\"sk-item\"><div class=\"sk-estimator sk-toggleable\"><input class=\"sk-toggleable__control sk-hidden--visually\" id=\"sk-estimator-id-6\" type=\"checkbox\" ><label for=\"sk-estimator-id-6\" class=\"sk-toggleable__label sk-toggleable__label-arrow\">XGBClassifier</label><div class=\"sk-toggleable__content\"><pre>XGBClassifier(base_score=None, booster=None, callbacks=None,\n",
       "              colsample_bylevel=None, colsample_bynode=None,\n",
       "              colsample_bytree=None, device=None, early_stopping_rounds=None,\n",
       "              enable_categorical=False, eval_metric=[&#x27;mlogloss&#x27;],\n",
       "              feature_types=None, gamma=None, grow_policy=None,\n",
       "              importance_type=None, interaction_constraints=None,\n",
       "              learning_rate=None, max_bin=None, max_cat_threshold=None,\n",
       "              max_cat_to_onehot=None, max_delta_step=None, max_depth=None,\n",
       "              max_leaves=None, min_child_weight=None, missing=nan,\n",
       "              monotone_constraints=None, multi_strategy=None, n_estimators=None,\n",
       "              n_jobs=1, num_class=6, num_parallel_tree=None, ...)</pre></div></div></div></div></div></div></div></div></div></div>"
      ],
      "text/plain": [
       "BayesSearchCV(cv=StratifiedKFold(n_splits=5, random_state=34, shuffle=True),\n",
       "              estimator=XGBClassifier(base_score=None, booster=None,\n",
       "                                      callbacks=None, colsample_bylevel=None,\n",
       "                                      colsample_bynode=None,\n",
       "                                      colsample_bytree=None, device=None,\n",
       "                                      early_stopping_rounds=None,\n",
       "                                      enable_categorical=False,\n",
       "                                      eval_metric=['mlogloss'],\n",
       "                                      feature_types=None, gamma=None,\n",
       "                                      grow_policy=None, impor...\n",
       "                             'learning_rate': Real(low=0.01, high=1.0, prior='log-uniform', transform='normalize'),\n",
       "                             'max_depth': Integer(low=3, high=10, prior='uniform', transform='normalize'),\n",
       "                             'n_estimators': Integer(low=50, high=200, prior='uniform', transform='normalize'),\n",
       "                             'reg_alpha': Real(low=0, high=5.0, prior='uniform', transform='normalize'),\n",
       "                             'reg_lambda': Real(low=0, high=5.0, prior='uniform', transform='normalize')},\n",
       "              verbose=1)"
      ]
     },
     "execution_count": 91,
     "metadata": {},
     "output_type": "execute_result"
    }
   ],
   "source": [
    "bayes_opt.fit(xtrain, ytrain)\n",
    "# np.__version__"
   ]
  },
  {
   "cell_type": "code",
   "execution_count": 108,
   "id": "0f9cb9fe",
   "metadata": {},
   "outputs": [
    {
     "name": "stdout",
     "output_type": "stream",
     "text": [
      "                precision    recall  f1-score   support\n",
      "\n",
      "create_account       0.93      0.86      0.90       279\n",
      "delete_account       0.84      0.80      0.82       255\n",
      "        log_in       0.85      0.75      0.80        52\n",
      "reset_password       0.90      0.89      0.89       252\n",
      "     unrelated       0.83      0.91      0.87       500\n",
      "update_profile       0.86      0.85      0.85       259\n",
      "\n",
      "      accuracy                           0.87      1597\n",
      "     macro avg       0.87      0.84      0.86      1597\n",
      "  weighted avg       0.87      0.87      0.87      1597\n",
      "\n"
     ]
    }
   ],
   "source": [
    "ypred = bayes_opt.best_estimator_.predict(xtest)\n",
    "print(classification_report(ytest, ypred, target_names=le.classes_))\n",
    "# xgb_classifier.fit(xtrain, ytrain)"
   ]
  },
  {
   "cell_type": "code",
   "execution_count": 147,
   "id": "689dbebc",
   "metadata": {},
   "outputs": [],
   "source": [
    "y_pred = xgb_classifier.predict(xtest)"
   ]
  },
  {
   "cell_type": "code",
   "execution_count": 107,
   "id": "feed298b",
   "metadata": {},
   "outputs": [],
   "source": [
    "from sklearn.metrics import f1_score, auc, roc_auc_score, roc_curve, confusion_matrix, classification_report\n",
    "\n",
    "# f1_score(ytest, y_pred, average='weighted')"
   ]
  },
  {
   "cell_type": "code",
   "execution_count": 182,
   "id": "f3ff77ed",
   "metadata": {},
   "outputs": [
    {
     "name": "stdout",
     "output_type": "stream",
     "text": [
      "                precision    recall  f1-score   support\n",
      "\n",
      "create_account       0.98      0.91      0.94       279\n",
      "delete_account       0.89      0.93      0.91       255\n",
      "        log_in       0.93      0.81      0.87        52\n",
      "reset_password       0.93      0.95      0.94       252\n",
      "     unrelated       0.89      0.94      0.91       500\n",
      "update_profile       0.93      0.87      0.90       259\n",
      "\n",
      "      accuracy                           0.92      1597\n",
      "     macro avg       0.92      0.90      0.91      1597\n",
      "  weighted avg       0.92      0.92      0.92      1597\n",
      "\n"
     ]
    }
   ],
   "source": [
    "print(classification_report(ytest, y_pred, target_names=le.classes_))\n",
    "# dict(zip(le.transform(le.classes_), "
   ]
  },
  {
   "cell_type": "markdown",
   "id": "89df20f4",
   "metadata": {},
   "source": [
    "{'f1_samples', 'jaccard_samples', 'neg_mean_absolute_percentage_error', 'precision_samples', 'accuracy', 'recall_micro', 'roc_auc_ovo', 'top_k_accuracy', 'neg_negative_likelihood_ratio', 'jaccard_micro', 'normalized_mutual_info_score', 'recall_samples', 'neg_log_loss', 'neg_mean_poisson_deviance', 'positive_likelihood_ratio', 'roc_auc_ovr_weighted', 'neg_mean_absolute_error', 'balanced_accuracy', 'neg_mean_gamma_deviance', 'f1_weighted', 'precision', 'recall_weighted', 'explained_variance', 'v_measure_score', 'precision_micro', 'f1_macro', 'neg_median_absolute_error', 'jaccard_macro', 'homogeneity_score', 'roc_auc_ovo_weighted', 'adjusted_mutual_info_score', 'neg_mean_squared_error', 'max_error', 'neg_mean_squared_log_error', 'jaccard_weighted', 'f1_micro', 'recall', 'adjusted_rand_score', 'average_precision', 'neg_brier_score', 'precision_macro', 'jaccard', 'roc_auc', 'recall_macro', 'neg_root_mean_squared_error', 'rand_score', 'roc_auc_ovr', 'completeness_score', 'matthews_corrcoef', 'precision_weighted', 'f1', 'r2', 'fowlkes_mallows_score', 'mutual_info_score'}"
   ]
  },
  {
   "cell_type": "markdown",
   "id": "3cdf038a",
   "metadata": {},
   "source": [
    "# Create and Run a Training job(Sagemaker)"
   ]
  },
  {
   "cell_type": "code",
   "execution_count": 6,
   "id": "f47b5059",
   "metadata": {},
   "outputs": [
    {
     "name": "stdout",
     "output_type": "stream",
     "text": [
      "sagemaker.config INFO - Not applying SDK defaults from location: /etc/xdg/sagemaker/config.yaml\n",
      "sagemaker.config INFO - Not applying SDK defaults from location: /home/ec2-user/.config/sagemaker/config.yaml\n"
     ]
    }
   ],
   "source": [
    "region = sess.boto_region_name\n",
    "role = sagemaker.get_execution_role()"
   ]
  },
  {
   "cell_type": "code",
   "execution_count": 7,
   "id": "cbbadaea",
   "metadata": {},
   "outputs": [
    {
     "name": "stdout",
     "output_type": "stream",
     "text": [
      "141502667606.dkr.ecr.eu-west-1.amazonaws.com/sagemaker-xgboost:1.7-1\n"
     ]
    }
   ],
   "source": [
    "from sagemaker.debugger import Rule, ProfilerRule, rule_configs\n",
    "from sagemaker.session import TrainingInput\n",
    "\n",
    "container = sagemaker.image_uris.retrieve('xgboost', region, \"1.7-1\")\n",
    "print(container)"
   ]
  },
  {
   "cell_type": "code",
   "execution_count": 24,
   "id": "5b561a36",
   "metadata": {},
   "outputs": [
    {
     "name": "stdout",
     "output_type": "stream",
     "text": [
      "sagemaker.config INFO - Not applying SDK defaults from location: /etc/xdg/sagemaker/config.yaml\n",
      "sagemaker.config INFO - Not applying SDK defaults from location: /home/ec2-user/.config/sagemaker/config.yaml\n"
     ]
    }
   ],
   "source": [
    "s3_output_location = f's3://{bucket}/models/xgboost_model'\n",
    "\n",
    "xgb_model = sagemaker.estimator.Estimator(\n",
    "    image_uri=container,\n",
    "    role=role,\n",
    "    instance_count=1,\n",
    "    instance_type='ml.m5.large',\n",
    "    volume_size=5,\n",
    "    output_path=s3_output_location,\n",
    "    sagemaker_session=sagemaker.Session(),\n",
    "    rules=[\n",
    "        Rule.sagemaker(rule_configs.create_xgboost_report()),\n",
    "        ProfilerRule.sagemaker(rule_configs.ProfilerReport())\n",
    "    ]\n",
    ")\n",
    "\n",
    "xgb_model.set_hyperparameters(\n",
    "    max_depth = 5,\n",
    "    eta = 0.2,\n",
    "    gamma = 4,\n",
    "    min_child_weight = 6,\n",
    "    subsample = 0.7,\n",
    "    reg_lambda = 0.01,\n",
    "    objective = 'multi:softmax',\n",
    "    num_round = 50,\n",
    "    eval_metric='mlogloss',\n",
    "    num_class=6\n",
    ")"
   ]
  },
  {
   "cell_type": "code",
   "execution_count": 65,
   "id": "8268d3fd",
   "metadata": {},
   "outputs": [],
   "source": [
    "train_input = TrainingInput(f\"s3://{bucket}/datasets/Train.csv\", content_type=\"csv\")\n",
    "test_input = TrainingInput(f\"s3://{bucket}/datasets/Train.csv\", content_type='csv')"
   ]
  },
  {
   "cell_type": "code",
   "execution_count": 66,
   "id": "e664002f",
   "metadata": {},
   "outputs": [
    {
     "name": "stderr",
     "output_type": "stream",
     "text": [
      "INFO:sagemaker:Creating training-job with name: sagemaker-xgboost-2023-10-18-10-01-58-437\n"
     ]
    },
    {
     "name": "stdout",
     "output_type": "stream",
     "text": [
      "2023-10-18 10:01:58 Starting - Starting the training job...\n",
      "2023-10-18 10:02:21 Starting - Preparing the instances for trainingCreateXgboostReport: InProgress\n",
      "ProfilerReport: InProgress\n",
      "......\n",
      "2023-10-18 10:03:25 Downloading - Downloading input data...\n",
      "2023-10-18 10:03:52 Training - Downloading the training image......\n",
      "2023-10-18 10:04:45 Training - Training image download completed. Training in progress.\u001b[34m[2023-10-18 10:04:40.778 ip-10-0-116-218.eu-west-1.compute.internal:7 INFO utils.py:28] RULE_JOB_STOP_SIGNAL_FILENAME: None\u001b[0m\n",
      "\u001b[34m[2023-10-18 10:04:40.808 ip-10-0-116-218.eu-west-1.compute.internal:7 INFO profiler_config_parser.py:111] User has disabled profiler.\u001b[0m\n",
      "\u001b[34m[2023-10-18:10:04:41:INFO] Imported framework sagemaker_xgboost_container.training\u001b[0m\n",
      "\u001b[34m[2023-10-18:10:04:41:INFO] Failed to parse hyperparameter eval_metric value mlogloss to Json.\u001b[0m\n",
      "\u001b[34mReturning the value itself\u001b[0m\n",
      "\u001b[34m[2023-10-18:10:04:41:INFO] Failed to parse hyperparameter objective value multi:softmax to Json.\u001b[0m\n",
      "\u001b[34mReturning the value itself\u001b[0m\n",
      "\u001b[34m[2023-10-18:10:04:41:INFO] No GPUs detected (normal if no gpus installed)\u001b[0m\n",
      "\u001b[34m[2023-10-18:10:04:41:INFO] Running XGBoost Sagemaker in algorithm mode\u001b[0m\n",
      "\u001b[34m[2023-10-18:10:04:41:WARNING] Suspected identical files found. (/opt/ml/input/data/train/Train.csv and /opt/ml/input/data/validation/Train.csvwith same size 15783228 bytes). Note: Duplicate data in the training set and validation set is usually not intentional and can impair the validity of the model evaluation by the validation score.\u001b[0m\n",
      "\u001b[34m[2023-10-18:10:04:41:INFO] Determined 0 GPU(s) available on the instance.\u001b[0m\n",
      "\u001b[34m[2023-10-18:10:04:41:INFO] Determined delimiter of CSV input is ','\u001b[0m\n",
      "\u001b[34m[2023-10-18:10:04:41:INFO] Determined delimiter of CSV input is ','\u001b[0m\n",
      "\u001b[34m[2023-10-18:10:04:41:INFO] File path /opt/ml/input/data/train of input files\u001b[0m\n",
      "\u001b[34m[2023-10-18:10:04:41:INFO] Making smlinks from folder /opt/ml/input/data/train to folder /tmp/sagemaker_xgboost_input_data\u001b[0m\n",
      "\u001b[34m[2023-10-18:10:04:41:INFO] creating symlink between Path /opt/ml/input/data/train/Train.csv and destination /tmp/sagemaker_xgboost_input_data/Train.csv-2634563620338458962\u001b[0m\n",
      "\u001b[34m[2023-10-18:10:04:41:INFO] files path: /tmp/sagemaker_xgboost_input_data\u001b[0m\n",
      "\u001b[34m[2023-10-18:10:04:41:INFO] Determined delimiter of CSV input is ','\u001b[0m\n",
      "\u001b[34m[2023-10-18:10:04:41:INFO] File path /opt/ml/input/data/validation of input files\u001b[0m\n",
      "\u001b[34m[2023-10-18:10:04:41:INFO] Making smlinks from folder /opt/ml/input/data/validation to folder /tmp/sagemaker_xgboost_input_data\u001b[0m\n",
      "\u001b[34m[2023-10-18:10:04:41:INFO] creating symlink between Path /opt/ml/input/data/validation/Train.csv and destination /tmp/sagemaker_xgboost_input_data/Train.csv-7286971084873373425\u001b[0m\n",
      "\u001b[34m[2023-10-18:10:04:41:INFO] files path: /tmp/sagemaker_xgboost_input_data\u001b[0m\n",
      "\u001b[34m[2023-10-18:10:04:41:INFO] Determined delimiter of CSV input is ','\u001b[0m\n",
      "\u001b[34m[2023-10-18:10:04:41:INFO] Single node training.\u001b[0m\n",
      "\u001b[34m[2023-10-18:10:04:41:INFO] Train matrix has 14370 rows and 96 columns\u001b[0m\n",
      "\u001b[34m[2023-10-18:10:04:41:INFO] Validation matrix has 14370 rows\u001b[0m\n",
      "\u001b[34m[2023-10-18 10:04:41.752 ip-10-0-116-218.eu-west-1.compute.internal:7 INFO json_config.py:92] Creating hook from json_config at /opt/ml/input/config/debughookconfig.json.\u001b[0m\n",
      "\u001b[34m[2023-10-18 10:04:41.753 ip-10-0-116-218.eu-west-1.compute.internal:7 INFO hook.py:206] tensorboard_dir has not been set for the hook. SMDebug will not be exporting tensorboard summaries.\u001b[0m\n",
      "\u001b[34m[2023-10-18 10:04:41.754 ip-10-0-116-218.eu-west-1.compute.internal:7 INFO hook.py:259] Saving to /opt/ml/output/tensors\u001b[0m\n",
      "\u001b[34m[2023-10-18 10:04:41.754 ip-10-0-116-218.eu-west-1.compute.internal:7 INFO state_store.py:77] The checkpoint config file /opt/ml/input/config/checkpointconfig.json does not exist.\u001b[0m\n",
      "\u001b[34m[2023-10-18:10:04:41:INFO] Debug hook created from config\u001b[0m\n",
      "\u001b[34m[0]#011train-mlogloss:1.57503#011validation-mlogloss:1.57503\u001b[0m\n",
      "\u001b[34m[2023-10-18 10:04:42.809 ip-10-0-116-218.eu-west-1.compute.internal:7 INFO hook.py:427] Monitoring the collections: hyperparameters, metrics, predictions, feature_importance, labels\u001b[0m\n",
      "\u001b[34m[2023-10-18 10:04:42.812 ip-10-0-116-218.eu-west-1.compute.internal:7 INFO hook.py:491] Hook is writing from the hook with pid: 7\u001b[0m\n",
      "\u001b[34m[1]#011train-mlogloss:1.41812#011validation-mlogloss:1.41812\u001b[0m\n",
      "\u001b[34m[2]#011train-mlogloss:1.29680#011validation-mlogloss:1.29680\u001b[0m\n",
      "\u001b[34m[3]#011train-mlogloss:1.19823#011validation-mlogloss:1.19823\u001b[0m\n",
      "\u001b[34m[4]#011train-mlogloss:1.11192#011validation-mlogloss:1.11192\u001b[0m\n",
      "\u001b[34m[5]#011train-mlogloss:1.04098#011validation-mlogloss:1.04098\u001b[0m\n",
      "\u001b[34m[6]#011train-mlogloss:0.97763#011validation-mlogloss:0.97763\u001b[0m\n",
      "\u001b[34m[7]#011train-mlogloss:0.92263#011validation-mlogloss:0.92263\u001b[0m\n",
      "\u001b[34m[8]#011train-mlogloss:0.87175#011validation-mlogloss:0.87175\u001b[0m\n",
      "\u001b[34m[9]#011train-mlogloss:0.82555#011validation-mlogloss:0.82555\u001b[0m\n",
      "\u001b[34m[10]#011train-mlogloss:0.78559#011validation-mlogloss:0.78559\u001b[0m\n",
      "\u001b[34m[11]#011train-mlogloss:0.74834#011validation-mlogloss:0.74834\u001b[0m\n",
      "\u001b[34m[12]#011train-mlogloss:0.71385#011validation-mlogloss:0.71385\u001b[0m\n",
      "\u001b[34m[13]#011train-mlogloss:0.68384#011validation-mlogloss:0.68384\u001b[0m\n",
      "\u001b[34m[14]#011train-mlogloss:0.65617#011validation-mlogloss:0.65617\u001b[0m\n",
      "\u001b[34m[15]#011train-mlogloss:0.63002#011validation-mlogloss:0.63002\u001b[0m\n",
      "\u001b[34m[16]#011train-mlogloss:0.60705#011validation-mlogloss:0.60705\u001b[0m\n",
      "\u001b[34m[17]#011train-mlogloss:0.58562#011validation-mlogloss:0.58562\u001b[0m\n",
      "\u001b[34m[18]#011train-mlogloss:0.56395#011validation-mlogloss:0.56395\u001b[0m\n",
      "\u001b[34m[19]#011train-mlogloss:0.54553#011validation-mlogloss:0.54553\u001b[0m\n",
      "\u001b[34m[20]#011train-mlogloss:0.52645#011validation-mlogloss:0.52645\u001b[0m\n",
      "\u001b[34m[21]#011train-mlogloss:0.50947#011validation-mlogloss:0.50947\u001b[0m\n",
      "\u001b[34m[22]#011train-mlogloss:0.49290#011validation-mlogloss:0.49290\u001b[0m\n",
      "\u001b[34m[23]#011train-mlogloss:0.47785#011validation-mlogloss:0.47785\u001b[0m\n",
      "\u001b[34m[24]#011train-mlogloss:0.46196#011validation-mlogloss:0.46196\u001b[0m\n",
      "\u001b[34m[25]#011train-mlogloss:0.45117#011validation-mlogloss:0.45117\u001b[0m\n",
      "\u001b[34m[26]#011train-mlogloss:0.43855#011validation-mlogloss:0.43855\u001b[0m\n",
      "\u001b[34m[27]#011train-mlogloss:0.42630#011validation-mlogloss:0.42630\u001b[0m\n",
      "\u001b[34m[28]#011train-mlogloss:0.41455#011validation-mlogloss:0.41455\u001b[0m\n",
      "\u001b[34m[29]#011train-mlogloss:0.40292#011validation-mlogloss:0.40292\u001b[0m\n",
      "\u001b[34m[30]#011train-mlogloss:0.39271#011validation-mlogloss:0.39271\u001b[0m\n",
      "\u001b[34m[31]#011train-mlogloss:0.38225#011validation-mlogloss:0.38225\u001b[0m\n",
      "\u001b[34m[32]#011train-mlogloss:0.37433#011validation-mlogloss:0.37433\u001b[0m\n",
      "\u001b[34m[33]#011train-mlogloss:0.36643#011validation-mlogloss:0.36643\u001b[0m\n",
      "\u001b[34m[34]#011train-mlogloss:0.35787#011validation-mlogloss:0.35787\u001b[0m\n",
      "\u001b[34m[35]#011train-mlogloss:0.34982#011validation-mlogloss:0.34982\u001b[0m\n",
      "\u001b[34m[36]#011train-mlogloss:0.34180#011validation-mlogloss:0.34180\u001b[0m\n",
      "\u001b[34m[37]#011train-mlogloss:0.33436#011validation-mlogloss:0.33436\u001b[0m\n",
      "\u001b[34m[38]#011train-mlogloss:0.32825#011validation-mlogloss:0.32825\u001b[0m\n",
      "\u001b[34m[39]#011train-mlogloss:0.32281#011validation-mlogloss:0.32281\u001b[0m\n",
      "\u001b[34m[40]#011train-mlogloss:0.31666#011validation-mlogloss:0.31666\u001b[0m\n",
      "\u001b[34m[41]#011train-mlogloss:0.31007#011validation-mlogloss:0.31007\u001b[0m\n",
      "\u001b[34m[42]#011train-mlogloss:0.30497#011validation-mlogloss:0.30497\u001b[0m\n",
      "\u001b[34m[43]#011train-mlogloss:0.29995#011validation-mlogloss:0.29995\u001b[0m\n",
      "\u001b[34m[44]#011train-mlogloss:0.29505#011validation-mlogloss:0.29505\u001b[0m\n",
      "\u001b[34m[45]#011train-mlogloss:0.29080#011validation-mlogloss:0.29080\u001b[0m\n",
      "\u001b[34m[46]#011train-mlogloss:0.28637#011validation-mlogloss:0.28637\u001b[0m\n",
      "\u001b[34m[47]#011train-mlogloss:0.28133#011validation-mlogloss:0.28133\u001b[0m\n",
      "\u001b[34m[48]#011train-mlogloss:0.27683#011validation-mlogloss:0.27683\u001b[0m\n",
      "\u001b[34m[49]#011train-mlogloss:0.27235#011validation-mlogloss:0.27235\u001b[0m\n",
      "\n",
      "2023-10-18 10:06:02 Uploading - Uploading generated training model\n",
      "2023-10-18 10:06:02 Completed - Training job completed\n",
      "Training seconds: 162\n",
      "Billable seconds: 162\n"
     ]
    }
   ],
   "source": [
    "xgb_model.fit({\"train\": train_input, \"validation\": test_input}, wait=True)"
   ]
  },
  {
   "cell_type": "code",
   "execution_count": 67,
   "id": "658ed93a",
   "metadata": {},
   "outputs": [
    {
     "name": "stdout",
     "output_type": "stream",
     "text": [
      "2023-10-18 10:06:23     329706 models/xgboost_model/sagemaker-xgboost-2023-10-18-10-01-58-437/rule-output/ProfilerReport/profiler-output/profiler-report.html\r\n",
      "2023-10-18 10:06:23     171080 models/xgboost_model/sagemaker-xgboost-2023-10-18-10-01-58-437/rule-output/ProfilerReport/profiler-output/profiler-report.ipynb\r\n",
      "2023-10-18 10:06:19        191 models/xgboost_model/sagemaker-xgboost-2023-10-18-10-01-58-437/rule-output/ProfilerReport/profiler-output/profiler-reports/BatchSize.json\r\n",
      "2023-10-18 10:06:19        199 models/xgboost_model/sagemaker-xgboost-2023-10-18-10-01-58-437/rule-output/ProfilerReport/profiler-output/profiler-reports/CPUBottleneck.json\r\n",
      "2023-10-18 10:06:19        126 models/xgboost_model/sagemaker-xgboost-2023-10-18-10-01-58-437/rule-output/ProfilerReport/profiler-output/profiler-reports/Dataloader.json\r\n",
      "2023-10-18 10:06:19        127 models/xgboost_model/sagemaker-xgboost-2023-10-18-10-01-58-437/rule-output/ProfilerReport/profiler-output/profiler-reports/GPUMemoryIncrease.json\r\n",
      "2023-10-18 10:06:19        198 models/xgboost_model/sagemaker-xgboost-2023-10-18-10-01-58-437/rule-output/ProfilerReport/profiler-output/profiler-reports/IOBottleneck.json\r\n",
      "2023-10-18 10:06:19        119 models/xgboost_model/sagemaker-xgboost-2023-10-18-10-01-58-437/rule-output/ProfilerReport/profiler-output/profiler-reports/LoadBalancing.json\r\n",
      "2023-10-18 10:06:19        151 models/xgboost_model/sagemaker-xgboost-2023-10-18-10-01-58-437/rule-output/ProfilerReport/profiler-output/profiler-reports/LowGPUUtilization.json\r\n",
      "2023-10-18 10:06:19        179 models/xgboost_model/sagemaker-xgboost-2023-10-18-10-01-58-437/rule-output/ProfilerReport/profiler-output/profiler-reports/MaxInitializationTime.json\r\n",
      "2023-10-18 10:06:19        133 models/xgboost_model/sagemaker-xgboost-2023-10-18-10-01-58-437/rule-output/ProfilerReport/profiler-output/profiler-reports/OverallFrameworkMetrics.json\r\n",
      "2023-10-18 10:06:19        468 models/xgboost_model/sagemaker-xgboost-2023-10-18-10-01-58-437/rule-output/ProfilerReport/profiler-output/profiler-reports/OverallSystemUsage.json\r\n",
      "2023-10-18 10:06:19        156 models/xgboost_model/sagemaker-xgboost-2023-10-18-10-01-58-437/rule-output/ProfilerReport/profiler-output/profiler-reports/StepOutlier.json\r\n"
     ]
    }
   ],
   "source": [
    "rule_output_path = xgb_model.output_path + \"/\" + xgb_model.latest_training_job.job_name + \"/rule-output\"\n",
    "! aws s3 ls {rule_output_path} --recursive"
   ]
  },
  {
   "cell_type": "code",
   "execution_count": 76,
   "id": "c448fb8c",
   "metadata": {},
   "outputs": [
    {
     "name": "stdout",
     "output_type": "stream",
     "text": [
      "download: s3://sagemakerexperimentation/models/xgboost_model/sagemaker-xgboost-2023-10-18-10-01-58-437/rule-output/CreateXgboostReport/xgboost-reports/EvaluationMetrics.json to CreateXgboostReport/xgboost-reports/EvaluationMetrics.json\n",
      "download: s3://sagemakerexperimentation/models/xgboost_model/sagemaker-xgboost-2023-10-18-10-01-58-437/rule-output/CreateXgboostReport/xgboost-reports/ConfusionMatrix.json to CreateXgboostReport/xgboost-reports/ConfusionMatrix.json\n",
      "download: s3://sagemakerexperimentation/models/xgboost_model/sagemaker-xgboost-2023-10-18-10-01-58-437/rule-output/CreateXgboostReport/xgboost-reports/LabelsDistribution.json to CreateXgboostReport/xgboost-reports/LabelsDistribution.json\n",
      "download: s3://sagemakerexperimentation/models/xgboost_model/sagemaker-xgboost-2023-10-18-10-01-58-437/rule-output/CreateXgboostReport/xgboost-reports/IterativeClassAccuracy.json to CreateXgboostReport/xgboost-reports/IterativeClassAccuracy.json\n",
      "download: s3://sagemakerexperimentation/models/xgboost_model/sagemaker-xgboost-2023-10-18-10-01-58-437/rule-output/ProfilerReport/profiler-output/profiler-reports/LoadBalancing.json to ProfilerReport/profiler-output/profiler-reports/LoadBalancing.json\n",
      "download: s3://sagemakerexperimentation/models/xgboost_model/sagemaker-xgboost-2023-10-18-10-01-58-437/rule-output/CreateXgboostReport/xgboost-reports/FeatureImportance.json to CreateXgboostReport/xgboost-reports/FeatureImportance.json\n",
      "download: s3://sagemakerexperimentation/models/xgboost_model/sagemaker-xgboost-2023-10-18-10-01-58-437/rule-output/ProfilerReport/profiler-output/profiler-reports/LowGPUUtilization.json to ProfilerReport/profiler-output/profiler-reports/LowGPUUtilization.json\n",
      "download: s3://sagemakerexperimentation/models/xgboost_model/sagemaker-xgboost-2023-10-18-10-01-58-437/rule-output/ProfilerReport/profiler-output/profiler-reports/GPUMemoryIncrease.json to ProfilerReport/profiler-output/profiler-reports/GPUMemoryIncrease.json\n",
      "download: s3://sagemakerexperimentation/models/xgboost_model/sagemaker-xgboost-2023-10-18-10-01-58-437/rule-output/ProfilerReport/profiler-output/profiler-reports/OverallFrameworkMetrics.json to ProfilerReport/profiler-output/profiler-reports/OverallFrameworkMetrics.json\n",
      "download: s3://sagemakerexperimentation/models/xgboost_model/sagemaker-xgboost-2023-10-18-10-01-58-437/rule-output/ProfilerReport/profiler-output/profiler-reports/StepOutlier.json to ProfilerReport/profiler-output/profiler-reports/StepOutlier.json\n",
      "download: s3://sagemakerexperimentation/models/xgboost_model/sagemaker-xgboost-2023-10-18-10-01-58-437/rule-output/ProfilerReport/profiler-output/profiler-report.html to ProfilerReport/profiler-output/profiler-report.html\n",
      "download: s3://sagemakerexperimentation/models/xgboost_model/sagemaker-xgboost-2023-10-18-10-01-58-437/rule-output/CreateXgboostReport/xgboost-reports/ResidualDistribution.json to CreateXgboostReport/xgboost-reports/ResidualDistribution.json\n",
      "download: s3://sagemakerexperimentation/models/xgboost_model/sagemaker-xgboost-2023-10-18-10-01-58-437/rule-output/ProfilerReport/profiler-output/profiler-reports/IOBottleneck.json to ProfilerReport/profiler-output/profiler-reports/IOBottleneck.json\n",
      "download: s3://sagemakerexperimentation/models/xgboost_model/sagemaker-xgboost-2023-10-18-10-01-58-437/rule-output/ProfilerReport/profiler-output/profiler-reports/MaxInitializationTime.json to ProfilerReport/profiler-output/profiler-reports/MaxInitializationTime.json\n",
      "download: s3://sagemakerexperimentation/models/xgboost_model/sagemaker-xgboost-2023-10-18-10-01-58-437/rule-output/ProfilerReport/profiler-output/profiler-reports/OverallSystemUsage.json to ProfilerReport/profiler-output/profiler-reports/OverallSystemUsage.json\n",
      "download: s3://sagemakerexperimentation/models/xgboost_model/sagemaker-xgboost-2023-10-18-10-01-58-437/rule-output/ProfilerReport/profiler-output/profiler-reports/Dataloader.json to ProfilerReport/profiler-output/profiler-reports/Dataloader.json\n",
      "download: s3://sagemakerexperimentation/models/xgboost_model/sagemaker-xgboost-2023-10-18-10-01-58-437/rule-output/CreateXgboostReport/xgboost_report.ipynb to CreateXgboostReport/xgboost_report.ipynb\n",
      "download: s3://sagemakerexperimentation/models/xgboost_model/sagemaker-xgboost-2023-10-18-10-01-58-437/rule-output/ProfilerReport/profiler-output/profiler-reports/BatchSize.json to ProfilerReport/profiler-output/profiler-reports/BatchSize.json\n",
      "download: s3://sagemakerexperimentation/models/xgboost_model/sagemaker-xgboost-2023-10-18-10-01-58-437/rule-output/ProfilerReport/profiler-output/profiler-reports/CPUBottleneck.json to ProfilerReport/profiler-output/profiler-reports/CPUBottleneck.json\n",
      "download: s3://sagemakerexperimentation/models/xgboost_model/sagemaker-xgboost-2023-10-18-10-01-58-437/rule-output/ProfilerReport/profiler-output/profiler-report.ipynb to ProfilerReport/profiler-output/profiler-report.ipynb\n",
      "download: s3://sagemakerexperimentation/models/xgboost_model/sagemaker-xgboost-2023-10-18-10-01-58-437/rule-output/CreateXgboostReport/xgboost_report.html to CreateXgboostReport/xgboost_report.html\n",
      "download: s3://sagemakerexperimentation/models/xgboost_model/sagemaker-xgboost-2023-10-18-10-01-58-437/rule-output/CreateXgboostReport/xgboost-reports/LossData.json to CreateXgboostReport/xgboost-reports/LossData.json\n"
     ]
    }
   ],
   "source": [
    "! aws s3 cp {rule_output_path} ./ --recursive"
   ]
  },
  {
   "cell_type": "code",
   "execution_count": 77,
   "id": "c0336181",
   "metadata": {},
   "outputs": [
    {
     "data": {
      "text/plain": [
       "'Click link below to view the XGBoost Training report'"
      ]
     },
     "metadata": {},
     "output_type": "display_data"
    },
    {
     "data": {
      "text/html": [
       "<a href='CreateXgboostReport/xgboost_report.html' target='_blank'>CreateXgboostReport/xgboost_report.html</a><br>"
      ],
      "text/plain": [
       "/home/ec2-user/SageMaker/aws-machine-learning/CreateXgboostReport/xgboost_report.html"
      ]
     },
     "metadata": {},
     "output_type": "display_data"
    }
   ],
   "source": [
    "from IPython.display import FileLink, FileLinks\n",
    "display(\"Click link below to view the XGBoost Training report\", FileLink(\"CreateXgboostReport/xgboost_report.html\"))"
   ]
  },
  {
   "cell_type": "code",
   "execution_count": 78,
   "id": "715732b6",
   "metadata": {},
   "outputs": [
    {
     "data": {
      "text/plain": [
       "'Click link below to view the profiler report'"
      ]
     },
     "metadata": {},
     "output_type": "display_data"
    },
    {
     "data": {
      "text/html": [
       "<a href='ProfilerReport/profiler-output/profiler-report.html' target='_blank'>ProfilerReport/profiler-output/profiler-report.html</a><br>"
      ],
      "text/plain": [
       "/home/ec2-user/SageMaker/aws-machine-learning/ProfilerReport/profiler-output/profiler-report.html"
      ]
     },
     "metadata": {},
     "output_type": "display_data"
    }
   ],
   "source": [
    "profiler_report_name = [rule[\"RuleConfigurationName\"] \n",
    "                        for rule in xgb_model.latest_training_job.rule_job_summary() \n",
    "                        if \"Profiler\" in rule[\"RuleConfigurationName\"]][0]\n",
    "profiler_report_name\n",
    "display(\"Click link below to view the profiler report\", FileLink(profiler_report_name+\"/profiler-output/profiler-report.html\"))"
   ]
  },
  {
   "cell_type": "code",
   "execution_count": 79,
   "id": "0ecef265",
   "metadata": {},
   "outputs": [
    {
     "data": {
      "text/plain": [
       "'s3://sagemakerexperimentation/models/xgboost_model/sagemaker-xgboost-2023-10-18-10-01-58-437/output/model.tar.gz'"
      ]
     },
     "execution_count": 79,
     "metadata": {},
     "output_type": "execute_result"
    }
   ],
   "source": [
    "xgb_model.model_data"
   ]
  },
  {
   "cell_type": "code",
   "execution_count": 83,
   "id": "3876fdb5",
   "metadata": {},
   "outputs": [
    {
     "name": "stderr",
     "output_type": "stream",
     "text": [
      "INFO:sagemaker:Creating model with name: sagemaker-xgboost-2023-10-18-10-26-28-970\n",
      "INFO:sagemaker:Creating endpoint-config with name sagemaker-xgboost-2023-10-18-10-26-28-970\n",
      "INFO:sagemaker:Creating endpoint with name sagemaker-xgboost-2023-10-18-10-26-28-970\n"
     ]
    },
    {
     "name": "stdout",
     "output_type": "stream",
     "text": [
      "----!"
     ]
    }
   ],
   "source": [
    "from sagemaker.serializers import CSVSerializer\n",
    "xgb_predictor = xgb_model.deploy(initial_instance_count=1, instance_type='ml.m5.xlarge', serializer=CSVSerializer())\n"
   ]
  },
  {
   "cell_type": "code",
   "execution_count": 84,
   "id": "f56299bd",
   "metadata": {},
   "outputs": [
    {
     "data": {
      "text/plain": [
       "'sagemaker-xgboost-2023-10-18-10-26-28-970'"
      ]
     },
     "execution_count": 84,
     "metadata": {},
     "output_type": "execute_result"
    }
   ],
   "source": [
    "xgb_predictor.endpoint_name"
   ]
  },
  {
   "cell_type": "code",
   "execution_count": 92,
   "id": "1b4f7fda",
   "metadata": {},
   "outputs": [
    {
     "name": "stderr",
     "output_type": "stream",
     "text": [
      "INFO:sagemaker:Deleting endpoint with name: sagemaker-xgboost-2023-10-18-10-26-28-970\n"
     ]
    }
   ],
   "source": [
    "# xgb_model.delete_model()\n",
    "sess.delete_endpoint(xgb_predictor.endpoint_name)"
   ]
  },
  {
   "cell_type": "code",
   "execution_count": null,
   "id": "1a20c1ec",
   "metadata": {},
   "outputs": [],
   "source": [
    "xgb_predictor"
   ]
  },
  {
   "cell_type": "code",
   "execution_count": 93,
   "id": "d8b5b292",
   "metadata": {},
   "outputs": [
    {
     "name": "stderr",
     "output_type": "stream",
     "text": [
      "INFO:sagemaker:Deleting model with name: sagemaker-xgboost-2023-10-18-10-26-28-970\n"
     ]
    }
   ],
   "source": [
    "sess.delete_model(xgb_predictor.endpoint_name)"
   ]
  },
  {
   "cell_type": "markdown",
   "id": "217d2949",
   "metadata": {},
   "source": [
    "# Deploy Pre-trained model"
   ]
  },
  {
   "cell_type": "code",
   "execution_count": 13,
   "id": "331a3eaf",
   "metadata": {},
   "outputs": [],
   "source": [
    "# 's3://sagemakerexperimentation/models/xgboost_model/sagemaker-xgboost-2023-10-18-10-01-58-437/output/model.tar.gz'\n",
    "model_path = f's3://{bucket}/models/xgboost_model/sagemaker-xgboost-2023-10-18-10-01-58-437/output/model.tar.gz'\n"
   ]
  },
  {
   "cell_type": "code",
   "execution_count": 19,
   "id": "2e5ae448",
   "metadata": {},
   "outputs": [
    {
     "name": "stdout",
     "output_type": "stream",
     "text": [
      "sagemaker.config INFO - Not applying SDK defaults from location: /etc/xdg/sagemaker/config.yaml\n",
      "sagemaker.config INFO - Not applying SDK defaults from location: /home/ec2-user/.config/sagemaker/config.yaml\n"
     ]
    }
   ],
   "source": [
    "from sagemaker.model import Model\n",
    "\n",
    "region = sess.boto_region_name\n",
    "role = sagemaker.get_execution_role()\n",
    "\n",
    "container = sagemaker.image_uris.retrieve('xgboost', region, \"1.7-1\")\n",
    "model = Model(role=role, image_uri=container, model_data=model_path)\n"
   ]
  },
  {
   "cell_type": "code",
   "execution_count": 22,
   "id": "f7f70b85",
   "metadata": {},
   "outputs": [
    {
     "name": "stdout",
     "output_type": "stream",
     "text": [
      "----!"
     ]
    }
   ],
   "source": [
    "from sagemaker.serializers import CSVSerializer\n",
    "model.deploy(\n",
    "    endpoint_name='XGBoost-Pretrained-1-1-1',\n",
    "    instance_type='ml.m5.xlarge',\n",
    "    initial_instance_count=1,\n",
    "    serializer=CSVSerializer()\n",
    ")"
   ]
  },
  {
   "cell_type": "code",
   "execution_count": 35,
   "id": "0101b301",
   "metadata": {},
   "outputs": [],
   "source": [
    "model.delete_model()"
   ]
  },
  {
   "cell_type": "code",
   "execution_count": 37,
   "id": "da37ea9c",
   "metadata": {},
   "outputs": [],
   "source": [
    "sess.delete_endpoint('XGBoost-Pretrained-1-1-1')"
   ]
  },
  {
   "cell_type": "code",
   "execution_count": 36,
   "id": "6867aee2",
   "metadata": {},
   "outputs": [
    {
     "data": {
      "text/plain": [
       "'XGBoost-Pretrained-1-1-1'"
      ]
     },
     "execution_count": 36,
     "metadata": {},
     "output_type": "execute_result"
    }
   ],
   "source": [
    "model.endpoint_name"
   ]
  },
  {
   "cell_type": "markdown",
   "id": "b39827ea",
   "metadata": {},
   "source": [
    "# Hyper-Parameter Tuning"
   ]
  },
  {
   "cell_type": "code",
   "execution_count": null,
   "id": "b57304d4",
   "metadata": {},
   "outputs": [],
   "source": [
    "region = sess.boto_region_name\n",
    "role = sagemaker.get_execution_role()"
   ]
  },
  {
   "cell_type": "code",
   "execution_count": 40,
   "id": "7929049d",
   "metadata": {},
   "outputs": [],
   "source": [
    "from sagemaker import TrainingInput"
   ]
  },
  {
   "cell_type": "code",
   "execution_count": 64,
   "id": "b30f775f",
   "metadata": {},
   "outputs": [
    {
     "name": "stdout",
     "output_type": "stream",
     "text": [
      "sagemaker.config INFO - Not applying SDK defaults from location: /etc/xdg/sagemaker/config.yaml\n",
      "sagemaker.config INFO - Not applying SDK defaults from location: /home/ec2-user/.config/sagemaker/config.yaml\n"
     ]
    }
   ],
   "source": [
    "from sagemaker.tuner import HyperparameterTuner, ContinuousParameter, CategoricalParameter, IntegerParameter\n",
    "\n",
    "s3_output_location = f's3://{bucket}/tuning'\n",
    "\n",
    "xgb_model = sagemaker.estimator.Estimator(\n",
    "    image_uri=container,\n",
    "    role=role,\n",
    "    instance_count=1,\n",
    "    instance_type='ml.m5.xlarge',\n",
    "    volume_size=5,\n",
    "    output_path=s3_output_location,\n",
    "    sagemaker_session=sagemaker.Session(),\n",
    "#     rules=[\n",
    "#         Rule.sagemaker(rule_configs.create_xgboost_report()),\n",
    "#         ProfilerRule.sagemaker(rule_configs.ProfilerReport())\n",
    "#     ]\n",
    ")\n",
    "\n",
    "# HyperparameterTuner()"
   ]
  },
  {
   "cell_type": "code",
   "execution_count": 41,
   "id": "34bcc292",
   "metadata": {},
   "outputs": [],
   "source": [
    "train_input = TrainingInput(f's3://{bucket}/datasets/Train.csv', content_type='csv')\n",
    "test_input = TrainingInput(f's3://{bucket}/datasets/Test.csv', content_type='csv')"
   ]
  },
  {
   "cell_type": "code",
   "execution_count": 63,
   "id": "e3ce4b58",
   "metadata": {},
   "outputs": [],
   "source": [
    "search_space = {\n",
    "    'alpha':ContinuousParameter(0.01, 0.05),\n",
    "    'eta': ContinuousParameter(0.1, 0.5),\n",
    "    'lambda':ContinuousParameter(0.01, 0.05),\n",
    "    'max_depth':IntegerParameter(3,10),\n",
    "    'min_child_weight' : IntegerParameter(4,8),\n",
    "    'gamma':IntegerParameter(2,5),\n",
    "    'num_round':IntegerParameter(50, 100)\n",
    "}\n",
    "\n",
    "tuner = HyperparameterTuner(estimator=xgb_model, \n",
    "                            objective_metric_name='validation:f1', \n",
    "                            hyperparameter_ranges=search_space, \n",
    "                            strategy='Bayesian', \n",
    "                            objective_type='Maximize', \n",
    "                            max_jobs=20,\n",
    "                            early_stopping_type='Auto')"
   ]
  },
  {
   "cell_type": "code",
   "execution_count": 65,
   "id": "ff6767fc",
   "metadata": {},
   "outputs": [
    {
     "name": "stderr",
     "output_type": "stream",
     "text": [
      "No finished training job found associated with this estimator. Please make sure this estimator is only used for building workflow config\n",
      "No finished training job found associated with this estimator. Please make sure this estimator is only used for building workflow config\n"
     ]
    },
    {
     "name": "stdout",
     "output_type": "stream",
     "text": [
      "..........................................!\n"
     ]
    }
   ],
   "source": [
    "tuner.fit({'train': train_input, 'validation': test_input})"
   ]
  },
  {
   "cell_type": "code",
   "execution_count": 67,
   "id": "86ecb5bb",
   "metadata": {},
   "outputs": [
    {
     "name": "stdout",
     "output_type": "stream",
     "text": [
      "\n",
      "2023-10-18 17:25:25 Starting - Preparing the instances for training\n",
      "2023-10-18 17:25:25 Downloading - Downloading input data\n",
      "2023-10-18 17:25:25 Training - Training image download completed. Training in progress.\n",
      "2023-10-18 17:25:25 Uploading - Uploading generated training model\n",
      "2023-10-18 17:25:25 Completed - Resource reused by training job: sagemaker-xgboost-231018-1722-002-a73af9e1\n"
     ]
    },
    {
     "data": {
      "text/plain": [
       "<sagemaker.estimator.Estimator at 0x7fca0e77b730>"
      ]
     },
     "execution_count": 67,
     "metadata": {},
     "output_type": "execute_result"
    }
   ],
   "source": [
    "tuner.best_estimator()"
   ]
  },
  {
   "cell_type": "code",
   "execution_count": 74,
   "id": "071ffc05",
   "metadata": {},
   "outputs": [
    {
     "name": "stdout",
     "output_type": "stream",
     "text": [
      "\n",
      "2023-10-18 17:25:25 Starting - Preparing the instances for training\n",
      "2023-10-18 17:25:25 Downloading - Downloading input data\n",
      "2023-10-18 17:25:25 Training - Training image download completed. Training in progress.\n",
      "2023-10-18 17:25:25 Uploading - Uploading generated training model\n",
      "2023-10-18 17:25:25 Completed - Resource reused by training job: sagemaker-xgboost-231018-1722-002-a73af9e1\n"
     ]
    },
    {
     "data": {
      "text/plain": [
       "<sagemaker.estimator.Estimator at 0x7fca0e1e9f60>"
      ]
     },
     "execution_count": 74,
     "metadata": {},
     "output_type": "execute_result"
    }
   ],
   "source": [
    "tuner.best_estimator()."
   ]
  },
  {
   "cell_type": "markdown",
   "id": "656fc8d1",
   "metadata": {},
   "source": [
    "# Training model using Training Script"
   ]
  },
  {
   "cell_type": "code",
   "execution_count": null,
   "id": "48445f50",
   "metadata": {},
   "outputs": [],
   "source": [
    "from sagemaker.xgboost.estimator import XGBoost"
   ]
  },
  {
   "cell_type": "code",
   "execution_count": 9,
   "id": "54c2f5c0",
   "metadata": {},
   "outputs": [
    {
     "ename": "TypeError",
     "evalue": "getenv() missing 1 required positional argument: 'key'",
     "output_type": "error",
     "traceback": [
      "\u001b[0;31m---------------------------------------------------------------------------\u001b[0m",
      "\u001b[0;31mTypeError\u001b[0m                                 Traceback (most recent call last)",
      "Cell \u001b[0;32mIn[9], line 2\u001b[0m\n\u001b[1;32m      1\u001b[0m \u001b[38;5;28;01mimport\u001b[39;00m \u001b[38;5;21;01mos\u001b[39;00m\n\u001b[0;32m----> 2\u001b[0m \u001b[43mos\u001b[49m\u001b[38;5;241;43m.\u001b[39;49m\u001b[43mgetenv\u001b[49m\u001b[43m(\u001b[49m\u001b[43m)\u001b[49m\n",
      "\u001b[0;31mTypeError\u001b[0m: getenv() missing 1 required positional argument: 'key'"
     ]
    }
   ],
   "source": [
    "import os\n",
    "os.envi"
   ]
  },
  {
   "cell_type": "code",
   "execution_count": null,
   "id": "c9be7996",
   "metadata": {},
   "outputs": [],
   "source": []
  }
 ],
 "metadata": {
  "kernelspec": {
   "display_name": "conda_pytorch_p310",
   "language": "python",
   "name": "conda_pytorch_p310"
  },
  "language_info": {
   "codemirror_mode": {
    "name": "ipython",
    "version": 3
   },
   "file_extension": ".py",
   "mimetype": "text/x-python",
   "name": "python",
   "nbconvert_exporter": "python",
   "pygments_lexer": "ipython3",
   "version": "3.10.12"
  }
 },
 "nbformat": 4,
 "nbformat_minor": 5
}
